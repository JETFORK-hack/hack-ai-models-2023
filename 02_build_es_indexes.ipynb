{
  "cells": [
    {
      "cell_type": "code",
      "execution_count": 1,
      "metadata": {
        "colab": {
          "base_uri": "https://localhost:8080/"
        },
        "id": "WSUuiHoSeuE2",
        "outputId": "83f182c0-7588-4fc6-ef3c-17d5bc22febd"
      },
      "outputs": [
        {
          "output_type": "stream",
          "name": "stdout",
          "text": [
            "Mounted at /content/drive\n"
          ]
        }
      ],
      "source": [
        "from google.colab import drive\n",
        "drive.mount('/content/drive')"
      ],
      "id": "WSUuiHoSeuE2"
    },
    {
      "cell_type": "code",
      "execution_count": 2,
      "metadata": {
        "colab": {
          "base_uri": "https://localhost:8080/"
        },
        "id": "Ke0LOz3cewgT",
        "outputId": "3cc46a1a-2245-4ebe-a2be-03d55889870d"
      },
      "outputs": [
        {
          "output_type": "stream",
          "name": "stdout",
          "text": [
            "Collecting elasticsearch\n",
            "  Downloading elasticsearch-8.11.0-py3-none-any.whl (412 kB)\n",
            "\u001b[2K     \u001b[90m━━━━━━━━━━━━━━━━━━━━━━━━━━━━━━━━━━━━━━━━\u001b[0m \u001b[32m412.6/412.6 kB\u001b[0m \u001b[31m7.9 MB/s\u001b[0m eta \u001b[36m0:00:00\u001b[0m\n",
            "\u001b[?25hCollecting eng_to_ipa\n",
            "  Downloading eng_to_ipa-0.0.2.tar.gz (2.8 MB)\n",
            "\u001b[2K     \u001b[90m━━━━━━━━━━━━━━━━━━━━━━━━━━━━━━━━━━━━━━━━\u001b[0m \u001b[32m2.8/2.8 MB\u001b[0m \u001b[31m74.5 MB/s\u001b[0m eta \u001b[36m0:00:00\u001b[0m\n",
            "\u001b[?25h  Preparing metadata (setup.py) ... \u001b[?25l\u001b[?25hdone\n",
            "Collecting elastic-transport<9,>=8 (from elasticsearch)\n",
            "  Downloading elastic_transport-8.10.0-py3-none-any.whl (59 kB)\n",
            "\u001b[2K     \u001b[90m━━━━━━━━━━━━━━━━━━━━━━━━━━━━━━━━━━━━━━━━\u001b[0m \u001b[32m59.8/59.8 kB\u001b[0m \u001b[31m8.0 MB/s\u001b[0m eta \u001b[36m0:00:00\u001b[0m\n",
            "\u001b[?25hRequirement already satisfied: urllib3<3,>=1.26.2 in /usr/local/lib/python3.10/dist-packages (from elastic-transport<9,>=8->elasticsearch) (2.0.7)\n",
            "Requirement already satisfied: certifi in /usr/local/lib/python3.10/dist-packages (from elastic-transport<9,>=8->elasticsearch) (2023.7.22)\n",
            "Building wheels for collected packages: eng_to_ipa\n",
            "  Building wheel for eng_to_ipa (setup.py) ... \u001b[?25l\u001b[?25hdone\n",
            "  Created wheel for eng_to_ipa: filename=eng_to_ipa-0.0.2-py3-none-any.whl size=2822606 sha256=77c8507ba8b4b2c60e35c708ffccb389556383584cc7518664f6b17e86ebc70b\n",
            "  Stored in directory: /root/.cache/pip/wheels/5b/ab/07/fe6722f710d8ef8bd0ccb4eb689ef96f5552f3fc0c80c1aa9c\n",
            "Successfully built eng_to_ipa\n",
            "Installing collected packages: eng_to_ipa, elastic-transport, elasticsearch\n",
            "Successfully installed elastic-transport-8.10.0 elasticsearch-8.11.0 eng_to_ipa-0.0.2\n"
          ]
        }
      ],
      "source": [
        "!pip install elasticsearch eng_to_ipa"
      ],
      "id": "Ke0LOz3cewgT"
    },
    {
      "cell_type": "code",
      "execution_count": 3,
      "metadata": {
        "colab": {
          "base_uri": "https://localhost:8080/",
          "height": 1000
        },
        "id": "_ZHMyMjtQJMC",
        "outputId": "0a02dafa-47cd-42cb-b8c9-820513d3bba5"
      },
      "outputs": [
        {
          "output_type": "stream",
          "name": "stdout",
          "text": [
            "Collecting faiss-gpu==1.7.2\n",
            "  Downloading faiss_gpu-1.7.2-cp310-cp310-manylinux_2_17_x86_64.manylinux2014_x86_64.whl (85.5 MB)\n",
            "\u001b[2K     \u001b[90m━━━━━━━━━━━━━━━━━━━━━━━━━━━━━━━━━━━━━━━━\u001b[0m \u001b[32m85.5/85.5 MB\u001b[0m \u001b[31m21.8 MB/s\u001b[0m eta \u001b[36m0:00:00\u001b[0m\n",
            "\u001b[?25hCollecting sentence-transformers==2.2.2\n",
            "  Downloading sentence-transformers-2.2.2.tar.gz (85 kB)\n",
            "\u001b[2K     \u001b[90m━━━━━━━━━━━━━━━━━━━━━━━━━━━━━━━━━━━━━━━━\u001b[0m \u001b[32m86.0/86.0 kB\u001b[0m \u001b[31m12.5 MB/s\u001b[0m eta \u001b[36m0:00:00\u001b[0m\n",
            "\u001b[?25h  Preparing metadata (setup.py) ... \u001b[?25l\u001b[?25hdone\n",
            "Collecting numpy==1.25\n",
            "  Downloading numpy-1.25.0-cp310-cp310-manylinux_2_17_x86_64.manylinux2014_x86_64.whl (17.6 MB)\n",
            "\u001b[2K     \u001b[90m━━━━━━━━━━━━━━━━━━━━━━━━━━━━━━━━━━━━━━━━\u001b[0m \u001b[32m17.6/17.6 MB\u001b[0m \u001b[31m91.5 MB/s\u001b[0m eta \u001b[36m0:00:00\u001b[0m\n",
            "\u001b[?25hRequirement already satisfied: transformers<5.0.0,>=4.6.0 in /usr/local/lib/python3.10/dist-packages (from sentence-transformers==2.2.2) (4.35.2)\n",
            "Requirement already satisfied: tqdm in /usr/local/lib/python3.10/dist-packages (from sentence-transformers==2.2.2) (4.66.1)\n",
            "Requirement already satisfied: torch>=1.6.0 in /usr/local/lib/python3.10/dist-packages (from sentence-transformers==2.2.2) (2.1.0+cu118)\n",
            "Requirement already satisfied: torchvision in /usr/local/lib/python3.10/dist-packages (from sentence-transformers==2.2.2) (0.16.0+cu118)\n",
            "Requirement already satisfied: scikit-learn in /usr/local/lib/python3.10/dist-packages (from sentence-transformers==2.2.2) (1.2.2)\n",
            "Requirement already satisfied: scipy in /usr/local/lib/python3.10/dist-packages (from sentence-transformers==2.2.2) (1.11.3)\n",
            "Requirement already satisfied: nltk in /usr/local/lib/python3.10/dist-packages (from sentence-transformers==2.2.2) (3.8.1)\n",
            "Collecting sentencepiece (from sentence-transformers==2.2.2)\n",
            "  Downloading sentencepiece-0.1.99-cp310-cp310-manylinux_2_17_x86_64.manylinux2014_x86_64.whl (1.3 MB)\n",
            "\u001b[2K     \u001b[90m━━━━━━━━━━━━━━━━━━━━━━━━━━━━━━━━━━━━━━━━\u001b[0m \u001b[32m1.3/1.3 MB\u001b[0m \u001b[31m82.8 MB/s\u001b[0m eta \u001b[36m0:00:00\u001b[0m\n",
            "\u001b[?25hRequirement already satisfied: huggingface-hub>=0.4.0 in /usr/local/lib/python3.10/dist-packages (from sentence-transformers==2.2.2) (0.19.4)\n",
            "Requirement already satisfied: filelock in /usr/local/lib/python3.10/dist-packages (from huggingface-hub>=0.4.0->sentence-transformers==2.2.2) (3.13.1)\n",
            "Requirement already satisfied: fsspec>=2023.5.0 in /usr/local/lib/python3.10/dist-packages (from huggingface-hub>=0.4.0->sentence-transformers==2.2.2) (2023.6.0)\n",
            "Requirement already satisfied: requests in /usr/local/lib/python3.10/dist-packages (from huggingface-hub>=0.4.0->sentence-transformers==2.2.2) (2.31.0)\n",
            "Requirement already satisfied: pyyaml>=5.1 in /usr/local/lib/python3.10/dist-packages (from huggingface-hub>=0.4.0->sentence-transformers==2.2.2) (6.0.1)\n",
            "Requirement already satisfied: typing-extensions>=3.7.4.3 in /usr/local/lib/python3.10/dist-packages (from huggingface-hub>=0.4.0->sentence-transformers==2.2.2) (4.5.0)\n",
            "Requirement already satisfied: packaging>=20.9 in /usr/local/lib/python3.10/dist-packages (from huggingface-hub>=0.4.0->sentence-transformers==2.2.2) (23.2)\n",
            "Requirement already satisfied: sympy in /usr/local/lib/python3.10/dist-packages (from torch>=1.6.0->sentence-transformers==2.2.2) (1.12)\n",
            "Requirement already satisfied: networkx in /usr/local/lib/python3.10/dist-packages (from torch>=1.6.0->sentence-transformers==2.2.2) (3.2.1)\n",
            "Requirement already satisfied: jinja2 in /usr/local/lib/python3.10/dist-packages (from torch>=1.6.0->sentence-transformers==2.2.2) (3.1.2)\n",
            "Requirement already satisfied: triton==2.1.0 in /usr/local/lib/python3.10/dist-packages (from torch>=1.6.0->sentence-transformers==2.2.2) (2.1.0)\n",
            "Requirement already satisfied: regex!=2019.12.17 in /usr/local/lib/python3.10/dist-packages (from transformers<5.0.0,>=4.6.0->sentence-transformers==2.2.2) (2023.6.3)\n",
            "Requirement already satisfied: tokenizers<0.19,>=0.14 in /usr/local/lib/python3.10/dist-packages (from transformers<5.0.0,>=4.6.0->sentence-transformers==2.2.2) (0.15.0)\n",
            "Requirement already satisfied: safetensors>=0.3.1 in /usr/local/lib/python3.10/dist-packages (from transformers<5.0.0,>=4.6.0->sentence-transformers==2.2.2) (0.4.0)\n",
            "Requirement already satisfied: click in /usr/local/lib/python3.10/dist-packages (from nltk->sentence-transformers==2.2.2) (8.1.7)\n",
            "Requirement already satisfied: joblib in /usr/local/lib/python3.10/dist-packages (from nltk->sentence-transformers==2.2.2) (1.3.2)\n",
            "Requirement already satisfied: threadpoolctl>=2.0.0 in /usr/local/lib/python3.10/dist-packages (from scikit-learn->sentence-transformers==2.2.2) (3.2.0)\n",
            "Requirement already satisfied: pillow!=8.3.*,>=5.3.0 in /usr/local/lib/python3.10/dist-packages (from torchvision->sentence-transformers==2.2.2) (9.4.0)\n",
            "Requirement already satisfied: MarkupSafe>=2.0 in /usr/local/lib/python3.10/dist-packages (from jinja2->torch>=1.6.0->sentence-transformers==2.2.2) (2.1.3)\n",
            "Requirement already satisfied: charset-normalizer<4,>=2 in /usr/local/lib/python3.10/dist-packages (from requests->huggingface-hub>=0.4.0->sentence-transformers==2.2.2) (3.3.2)\n",
            "Requirement already satisfied: idna<4,>=2.5 in /usr/local/lib/python3.10/dist-packages (from requests->huggingface-hub>=0.4.0->sentence-transformers==2.2.2) (3.4)\n",
            "Requirement already satisfied: urllib3<3,>=1.21.1 in /usr/local/lib/python3.10/dist-packages (from requests->huggingface-hub>=0.4.0->sentence-transformers==2.2.2) (2.0.7)\n",
            "Requirement already satisfied: certifi>=2017.4.17 in /usr/local/lib/python3.10/dist-packages (from requests->huggingface-hub>=0.4.0->sentence-transformers==2.2.2) (2023.7.22)\n",
            "Requirement already satisfied: mpmath>=0.19 in /usr/local/lib/python3.10/dist-packages (from sympy->torch>=1.6.0->sentence-transformers==2.2.2) (1.3.0)\n",
            "Building wheels for collected packages: sentence-transformers\n",
            "  Building wheel for sentence-transformers (setup.py) ... \u001b[?25l\u001b[?25hdone\n",
            "  Created wheel for sentence-transformers: filename=sentence_transformers-2.2.2-py3-none-any.whl size=125923 sha256=af98af19a77fc3bdcf115dd69a9ffab8d238fe6783bd5b22def20562e757b41b\n",
            "  Stored in directory: /root/.cache/pip/wheels/62/f2/10/1e606fd5f02395388f74e7462910fe851042f97238cbbd902f\n",
            "Successfully built sentence-transformers\n",
            "Installing collected packages: sentencepiece, faiss-gpu, numpy, sentence-transformers\n",
            "  Attempting uninstall: numpy\n",
            "    Found existing installation: numpy 1.23.5\n",
            "    Uninstalling numpy-1.23.5:\n",
            "      Successfully uninstalled numpy-1.23.5\n",
            "\u001b[31mERROR: pip's dependency resolver does not currently take into account all the packages that are installed. This behaviour is the source of the following dependency conflicts.\n",
            "lida 0.0.10 requires fastapi, which is not installed.\n",
            "lida 0.0.10 requires kaleido, which is not installed.\n",
            "lida 0.0.10 requires python-multipart, which is not installed.\n",
            "lida 0.0.10 requires uvicorn, which is not installed.\u001b[0m\u001b[31m\n",
            "\u001b[0mSuccessfully installed faiss-gpu-1.7.2 numpy-1.25.0 sentence-transformers-2.2.2 sentencepiece-0.1.99\n"
          ]
        },
        {
          "output_type": "display_data",
          "data": {
            "application/vnd.colab-display-data+json": {
              "pip_warning": {
                "packages": [
                  "numpy"
                ]
              }
            }
          },
          "metadata": {}
        }
      ],
      "source": [
        "! pip install faiss-gpu==1.7.2 sentence-transformers==2.2.2 numpy==1.25"
      ],
      "id": "_ZHMyMjtQJMC"
    },
    {
      "cell_type": "code",
      "execution_count": 4,
      "metadata": {
        "colab": {
          "base_uri": "https://localhost:8080/"
        },
        "id": "3d_Tf-PDSIPG",
        "outputId": "11f9eb1e-a364-439a-f69a-83950da19e9a"
      },
      "outputs": [
        {
          "output_type": "stream",
          "name": "stdout",
          "text": [
            "Requirement already satisfied: numpy==1.25 in /usr/local/lib/python3.10/dist-packages (1.25.0)\n"
          ]
        }
      ],
      "source": [
        "! pip install numpy==1.25"
      ],
      "id": "3d_Tf-PDSIPG"
    },
    {
      "cell_type": "code",
      "source": [
        "! pip install fasttext"
      ],
      "metadata": {
        "colab": {
          "base_uri": "https://localhost:8080/"
        },
        "id": "5acXNP1ZezPA",
        "outputId": "46782aa8-3421-4147-d111-d0df5e7a7e45"
      },
      "id": "5acXNP1ZezPA",
      "execution_count": 5,
      "outputs": [
        {
          "output_type": "stream",
          "name": "stdout",
          "text": [
            "Collecting fasttext\n",
            "  Downloading fasttext-0.9.2.tar.gz (68 kB)\n",
            "\u001b[?25l     \u001b[90m━━━━━━━━━━━━━━━━━━━━━━━━━━━━━━━━━━━━━━━━\u001b[0m \u001b[32m0.0/68.8 kB\u001b[0m \u001b[31m?\u001b[0m eta \u001b[36m-:--:--\u001b[0m\r\u001b[2K     \u001b[90m━━━━━━━━━━━━━━━━━━━━━━━━━━━━━━━━━━━━━━━━\u001b[0m \u001b[32m68.8/68.8 kB\u001b[0m \u001b[31m2.0 MB/s\u001b[0m eta \u001b[36m0:00:00\u001b[0m\n",
            "\u001b[?25h  Preparing metadata (setup.py) ... \u001b[?25l\u001b[?25hdone\n",
            "Collecting pybind11>=2.2 (from fasttext)\n",
            "  Using cached pybind11-2.11.1-py3-none-any.whl (227 kB)\n",
            "Requirement already satisfied: setuptools>=0.7.0 in /usr/local/lib/python3.10/dist-packages (from fasttext) (67.7.2)\n",
            "Requirement already satisfied: numpy in /usr/local/lib/python3.10/dist-packages (from fasttext) (1.25.0)\n",
            "Building wheels for collected packages: fasttext\n",
            "  Building wheel for fasttext (setup.py) ... \u001b[?25l\u001b[?25hdone\n",
            "  Created wheel for fasttext: filename=fasttext-0.9.2-cp310-cp310-linux_x86_64.whl size=4199772 sha256=6f58a83c251bb37354f2282d9f434fd28737610f67802383a5a7b4e022f04a35\n",
            "  Stored in directory: /root/.cache/pip/wheels/a5/13/75/f811c84a8ab36eedbaef977a6a58a98990e8e0f1967f98f394\n",
            "Successfully built fasttext\n",
            "Installing collected packages: pybind11, fasttext\n",
            "Successfully installed fasttext-0.9.2 pybind11-2.11.1\n"
          ]
        }
      ]
    },
    {
      "cell_type": "code",
      "execution_count": 6,
      "metadata": {
        "id": "9h5ksX6APlw1"
      },
      "outputs": [],
      "source": [
        "path = '../content/drive/MyDrive/JETFORK_11_2023/data/'"
      ],
      "id": "9h5ksX6APlw1"
    },
    {
      "cell_type": "code",
      "execution_count": 7,
      "metadata": {
        "id": "vMxWIzRPQETq"
      },
      "outputs": [],
      "source": [
        "import faiss\n",
        "import fasttext"
      ],
      "id": "vMxWIzRPQETq"
    },
    {
      "cell_type": "code",
      "execution_count": 8,
      "metadata": {
        "id": "d44bb59b-055e-4a38-8bd9-cd0162aed62c"
      },
      "outputs": [],
      "source": [
        "from elasticsearch import Elasticsearch, helpers\n",
        "import pandas as pd\n",
        "import re\n",
        "from tqdm import tqdm\n",
        "import sys\n",
        "\n",
        "sys.path.insert(0, path)\n"
      ],
      "id": "d44bb59b-055e-4a38-8bd9-cd0162aed62c"
    },
    {
      "cell_type": "code",
      "execution_count": 9,
      "metadata": {
        "id": "6bd5d4e8-2b67-405c-8312-f5a13fa003fc"
      },
      "outputs": [],
      "source": [
        "es = Elasticsearch(\"http://5.35.83.33:9200/\", basic_auth=(\"elastic\", \"\"))"
      ],
      "id": "6bd5d4e8-2b67-405c-8312-f5a13fa003fc"
    },
    {
      "cell_type": "code",
      "execution_count": 10,
      "metadata": {
        "id": "0c646506-ff38-4719-bc82-6d6138facfbb"
      },
      "outputs": [],
      "source": [
        "ENG_WORD_PATTERN = re.compile(r\"[a-z]+\")"
      ],
      "id": "0c646506-ff38-4719-bc82-6d6138facfbb"
    },
    {
      "cell_type": "code",
      "source": [
        "model = fasttext.load_model(path + 'model/00_fasttext_queries.bin')"
      ],
      "metadata": {
        "colab": {
          "base_uri": "https://localhost:8080/"
        },
        "id": "BFcJA_hFfGTF",
        "outputId": "7351640d-b139-4ecc-8189-8454b08e358c"
      },
      "id": "BFcJA_hFfGTF",
      "execution_count": 11,
      "outputs": [
        {
          "output_type": "stream",
          "name": "stderr",
          "text": [
            "Warning : `load_model` does not return WordVectorModel or SupervisedModel any more, but a `FastText` object which is very similar.\n"
          ]
        }
      ]
    },
    {
      "cell_type": "code",
      "execution_count": 12,
      "metadata": {
        "id": "99f36f6f-e930-4e91-8339-ce1151f00341"
      },
      "outputs": [],
      "source": [
        "video_meta = pd.read_parquet(path + \"clean_videos_done.parquet\")[['video_id', 'video_title', 'channel_title',\n",
        "       'v_channel_type', 'v_category', 'clean_title',\n",
        "       'clean_channel_title']]\n",
        "\n",
        "video_meta = video_meta.dropna(subset=['clean_title', 'clean_channel_title'])\n",
        "video_meta.columns = ['id', 'source_video_title', 'source_channel_title', 'v_channel_type',\n",
        "       'v_category', 'processed_video_title', 'processed_channel_title']\n",
        "video_meta = video_meta.reset_index(drop=True)"
      ],
      "id": "99f36f6f-e930-4e91-8339-ce1151f00341"
    },
    {
      "cell_type": "code",
      "source": [
        "import gc\n",
        "gc.collect()"
      ],
      "metadata": {
        "colab": {
          "base_uri": "https://localhost:8080/"
        },
        "id": "Oh5Z4s9cugkh",
        "outputId": "20f43810-d313-4cb6-ef66-c0903b61d0ab"
      },
      "id": "Oh5Z4s9cugkh",
      "execution_count": 13,
      "outputs": [
        {
          "output_type": "execute_result",
          "data": {
            "text/plain": [
              "0"
            ]
          },
          "metadata": {},
          "execution_count": 13
        }
      ]
    },
    {
      "cell_type": "code",
      "source": [
        "from tqdm import tqdm\n",
        "\n",
        "tqdm.pandas()"
      ],
      "metadata": {
        "id": "E2rjW6IxhBGv"
      },
      "id": "E2rjW6IxhBGv",
      "execution_count": 14,
      "outputs": []
    },
    {
      "cell_type": "code",
      "source": [
        "video_meta = video_meta.head(15000000)"
      ],
      "metadata": {
        "id": "NPwM0PsyuyDH"
      },
      "id": "NPwM0PsyuyDH",
      "execution_count": 15,
      "outputs": []
    },
    {
      "cell_type": "code",
      "source": [
        "video_meta['video-vector'] = video_meta['processed_video_title'].progress_apply(lambda x: list(model.get_sentence_vector(x)))"
      ],
      "metadata": {
        "colab": {
          "base_uri": "https://localhost:8080/"
        },
        "id": "wsW5_ZKzfxJn",
        "outputId": "3d4fb421-3a79-4f3f-cb2e-8ea6f76d8ac6"
      },
      "id": "wsW5_ZKzfxJn",
      "execution_count": 16,
      "outputs": [
        {
          "output_type": "stream",
          "name": "stderr",
          "text": [
            "100%|██████████| 15000000/15000000 [15:41<00:00, 15938.23it/s]\n"
          ]
        }
      ]
    },
    {
      "cell_type": "markdown",
      "metadata": {
        "id": "eLgB4HqqKPTD"
      },
      "source": [
        "# Video vectors"
      ],
      "id": "eLgB4HqqKPTD"
    },
    {
      "cell_type": "code",
      "execution_count": 17,
      "metadata": {
        "colab": {
          "base_uri": "https://localhost:8080/"
        },
        "id": "VIi3R91yoTWK",
        "outputId": "03a2b714-24fe-4e7b-ef84-d5bd68f05733"
      },
      "outputs": [
        {
          "output_type": "execute_result",
          "data": {
            "text/plain": [
              "ObjectApiResponse({'acknowledged': True, 'shards_acknowledged': True, 'index': 'videos_index__v1'})"
            ]
          },
          "metadata": {},
          "execution_count": 17
        }
      ],
      "source": [
        "INDEX_NAME = \"videos_index__v1\"\n",
        "es.indices.create(index=INDEX_NAME,\n",
        "                  body={\n",
        "                      \"mappings\": {\n",
        "                        \"properties\": {\n",
        "                          \"video-vector\": {\n",
        "                            \"type\": \"dense_vector\",\n",
        "                            \"dims\": 70,\n",
        "                            \"similarity\": \"cosine\"\n",
        "                          },\n",
        "                          \"id\": {\"type\": \"text\"},\n",
        "                          \"source_video_title\": {\"type\": \"text\"},\n",
        "                          \"source_channel_title\": {\"type\": \"text\"},\n",
        "                          \"v_channel_type\": {\"type\": \"text\"},\n",
        "                          \"v_category\": {\"type\": \"text\"},\n",
        "                          \"processed_video_title\": {\"type\": \"text\"},\n",
        "                          \"processed_channel_title\": {\"type\": \"text\"},\n",
        "                          }\n",
        "                      }\n",
        "                    })"
      ],
      "id": "VIi3R91yoTWK"
    },
    {
      "cell_type": "code",
      "source": [
        "! pip install es_pandas"
      ],
      "metadata": {
        "colab": {
          "base_uri": "https://localhost:8080/"
        },
        "id": "tr-6HX-m9Gko",
        "outputId": "37313a90-4c31-4eb6-bd90-0e5ded166253"
      },
      "id": "tr-6HX-m9Gko",
      "execution_count": 18,
      "outputs": [
        {
          "output_type": "stream",
          "name": "stdout",
          "text": [
            "Collecting es_pandas\n",
            "  Downloading es_pandas-0.0.22-py3-none-any.whl (6.4 kB)\n",
            "Requirement already satisfied: pandas in /usr/local/lib/python3.10/dist-packages (from es_pandas) (1.5.3)\n",
            "Requirement already satisfied: elasticsearch in /usr/local/lib/python3.10/dist-packages (from es_pandas) (8.11.0)\n",
            "Requirement already satisfied: tqdm in /usr/local/lib/python3.10/dist-packages (from es_pandas) (4.66.1)\n",
            "Requirement already satisfied: requests in /usr/local/lib/python3.10/dist-packages (from es_pandas) (2.31.0)\n",
            "Requirement already satisfied: elastic-transport<9,>=8 in /usr/local/lib/python3.10/dist-packages (from elasticsearch->es_pandas) (8.10.0)\n",
            "Requirement already satisfied: python-dateutil>=2.8.1 in /usr/local/lib/python3.10/dist-packages (from pandas->es_pandas) (2.8.2)\n",
            "Requirement already satisfied: pytz>=2020.1 in /usr/local/lib/python3.10/dist-packages (from pandas->es_pandas) (2023.3.post1)\n",
            "Requirement already satisfied: numpy>=1.21.0 in /usr/local/lib/python3.10/dist-packages (from pandas->es_pandas) (1.25.0)\n",
            "Requirement already satisfied: charset-normalizer<4,>=2 in /usr/local/lib/python3.10/dist-packages (from requests->es_pandas) (3.3.2)\n",
            "Requirement already satisfied: idna<4,>=2.5 in /usr/local/lib/python3.10/dist-packages (from requests->es_pandas) (3.4)\n",
            "Requirement already satisfied: urllib3<3,>=1.21.1 in /usr/local/lib/python3.10/dist-packages (from requests->es_pandas) (2.0.7)\n",
            "Requirement already satisfied: certifi>=2017.4.17 in /usr/local/lib/python3.10/dist-packages (from requests->es_pandas) (2023.7.22)\n",
            "Requirement already satisfied: six>=1.5 in /usr/local/lib/python3.10/dist-packages (from python-dateutil>=2.8.1->pandas->es_pandas) (1.16.0)\n",
            "Installing collected packages: es_pandas\n",
            "Successfully installed es_pandas-0.0.22\n"
          ]
        }
      ]
    },
    {
      "cell_type": "code",
      "source": [
        "from es_pandas import es_pandas"
      ],
      "metadata": {
        "id": "eM5kpwrz9L8d"
      },
      "id": "eM5kpwrz9L8d",
      "execution_count": 19,
      "outputs": []
    },
    {
      "cell_type": "code",
      "source": [
        "ep = es_pandas(\"http://5.35.83.33:9200/\")"
      ],
      "metadata": {
        "id": "0segOh3d9Qmx"
      },
      "id": "0segOh3d9Qmx",
      "execution_count": 20,
      "outputs": []
    },
    {
      "cell_type": "code",
      "source": [
        "ep.to_es(video_meta, INDEX_NAME, thread_count=8, chunk_size=10000)"
      ],
      "metadata": {
        "colab": {
          "base_uri": "https://localhost:8080/"
        },
        "id": "7GmoGyBT9oS2",
        "outputId": "41578321-9d1d-4252-80ea-63bf95a058f8"
      },
      "id": "7GmoGyBT9oS2",
      "execution_count": null,
      "outputs": [
        {
          "output_type": "stream",
          "name": "stderr",
          "text": [
            "7310883660it [00:39, 371555526.40it/s]WARNING:elastic_transport.node_pool:Node <Urllib3HttpNode(http://5.35.83.33:9200)> has failed for 1 times in a row, putting on 1 second timeout\n",
            "9412400206it [00:44, 436522320.90it/s]WARNING:elastic_transport.node_pool:Node <Urllib3HttpNode(http://5.35.83.33:9200)> has been marked alive after a successful request\n",
            "9993798753it [00:46, 441629622.84it/s]WARNING:elastic_transport.node_pool:Node <Urllib3HttpNode(http://5.35.83.33:9200)> has failed for 1 times in a row, putting on 1 second timeout\n",
            "11460752901it [00:49, 478015820.08it/s]WARNING:elastic_transport.node_pool:Node <Urllib3HttpNode(http://5.35.83.33:9200)> has failed for 2 times in a row, putting on 2 second timeout\n",
            "13084847335it [00:52, 508052298.95it/s]WARNING:elastic_transport.node_pool:Node <Urllib3HttpNode(http://5.35.83.33:9200)> has failed for 3 times in a row, putting on 4 second timeout\n",
            "15168029878it [00:56, 550887486.03it/s]WARNING:elastic_transport.node_pool:Node <Urllib3HttpNode(http://5.35.83.33:9200)> has been marked alive after a successful request\n",
            "34190994250it [01:24, 816096539.33it/s]WARNING:elastic_transport.node_pool:Node <Urllib3HttpNode(http://5.35.83.33:9200)> has failed for 1 times in a row, putting on 1 second timeout\n",
            "36862777050it [01:27, 849182325.44it/s]WARNING:elastic_transport.node_pool:Node <Urllib3HttpNode(http://5.35.83.33:9200)> has failed for 2 times in a row, putting on 2 second timeout\n",
            "39686600778it [01:30, 884887403.56it/s]WARNING:elastic_transport.node_pool:Node <Urllib3HttpNode(http://5.35.83.33:9200)> has failed for 3 times in a row, putting on 4 second timeout\n",
            "42072768081it [01:33, 873524477.26it/s]WARNING:elastic_transport.node_pool:Node <Urllib3HttpNode(http://5.35.83.33:9200)> has been marked alive after a successful request\n",
            "45411486396it [01:36, 947662399.12it/s]WARNING:elastic_transport.node_pool:Node <Urllib3HttpNode(http://5.35.83.33:9200)> has failed for 1 times in a row, putting on 1 second timeout\n",
            "49762711026it [01:41, 1005273604.35it/s]WARNING:elastic_transport.node_pool:Node <Urllib3HttpNode(http://5.35.83.33:9200)> has been marked alive after a successful request\n",
            "51605760745it [01:43, 995637793.67it/s]WARNING:elastic_transport.node_pool:Node <Urllib3HttpNode(http://5.35.83.33:9200)> has failed for 1 times in a row, putting on 1 second timeout\n",
            "54934688845it [01:46, 1011164377.70it/s]WARNING:elastic_transport.node_pool:Node <Urllib3HttpNode(http://5.35.83.33:9200)> has failed for 2 times in a row, putting on 2 second timeout\n",
            "58218444606it [01:49, 1009030595.39it/s]WARNING:elastic_transport.node_pool:Node <Urllib3HttpNode(http://5.35.83.33:9200)> has failed for 3 times in a row, putting on 4 second timeout\n",
            "61586636280it [01:52, 1078859368.19it/s]WARNING:elastic_transport.node_pool:Node <Urllib3HttpNode(http://5.35.83.33:9200)> has failed for 4 times in a row, putting on 8 second timeout\n",
            "66533136153it [01:57, 1163464599.73it/s]WARNING:elastic_transport.node_pool:Node <Urllib3HttpNode(http://5.35.83.33:9200)> has been marked alive after a successful request\n",
            "82187350596it [02:23, 31866012.71it/s]  WARNING:elastic_transport.node_pool:Node <Urllib3HttpNode(http://5.35.83.33:9200)> has failed for 1 times in a row, putting on 1 second timeout\n",
            "82224654526it [02:23, 35328929.50it/s]WARNING:elastic_transport.transport:Retrying request after failure (attempt 0 of 3)\n",
            "Traceback (most recent call last):\n",
            "  File \"/usr/local/lib/python3.10/dist-packages/elastic_transport/_transport.py\", line 328, in perform_request\n",
            "    meta, raw_data = node.perform_request(\n",
            "  File \"/usr/local/lib/python3.10/dist-packages/elastic_transport/_node/_http_urllib3.py\", line 202, in perform_request\n",
            "    raise err from None\n",
            "elastic_transport.ConnectionError: Connection error caused by: ProtocolError(('Connection aborted.', TimeoutError('timed out')))\n",
            "WARNING:elastic_transport.node_pool:Node <Urllib3HttpNode(http://5.35.83.33:9200)> has been marked alive after a successful request\n",
            "106297152660it [02:41, 1384538837.57it/s]WARNING:elastic_transport.node_pool:Node <Urllib3HttpNode(http://5.35.83.33:9200)> has failed for 1 times in a row, putting on 1 second timeout\n",
            "110975378286it [02:44, 1479458997.47it/s]WARNING:elastic_transport.node_pool:Node <Urllib3HttpNode(http://5.35.83.33:9200)> has failed for 2 times in a row, putting on 2 second timeout\n",
            "115900180696it [02:48, 1522265549.03it/s]WARNING:elastic_transport.node_pool:Node <Urllib3HttpNode(http://5.35.83.33:9200)> has failed for 3 times in a row, putting on 4 second timeout\n",
            "120953538720it [02:51, 1583727820.81it/s]WARNING:elastic_transport.node_pool:Node <Urllib3HttpNode(http://5.35.83.33:9200)> has failed for 4 times in a row, putting on 8 second timeout\n",
            "125958580741it [02:54, 1597961738.90it/s]WARNING:elastic_transport.node_pool:Node <Urllib3HttpNode(http://5.35.83.33:9200)> has failed for 5 times in a row, putting on 16 second timeout\n",
            "134406866628it [02:59, 1461841219.44it/s]WARNING:elastic_transport.node_pool:Node <Urllib3HttpNode(http://5.35.83.33:9200)> has been marked alive after a successful request\n",
            "181047018153it [03:26, 1900590260.47it/s]WARNING:elastic_transport.node_pool:Node <Urllib3HttpNode(http://5.35.83.33:9200)> has failed for 1 times in a row, putting on 1 second timeout\n",
            "187138913653it [03:29, 1907819173.71it/s]WARNING:elastic_transport.node_pool:Node <Urllib3HttpNode(http://5.35.83.33:9200)> has failed for 2 times in a row, putting on 2 second timeout\n",
            "193349022175it [03:32, 1995742267.55it/s]WARNING:elastic_transport.node_pool:Node <Urllib3HttpNode(http://5.35.83.33:9200)> has failed for 3 times in a row, putting on 4 second timeout\n",
            "199666814556it [03:35, 2024075419.55it/s]WARNING:elastic_transport.node_pool:Node <Urllib3HttpNode(http://5.35.83.33:9200)> has failed for 4 times in a row, putting on 8 second timeout\n",
            "206092593136it [03:38, 2045270871.57it/s]WARNING:elastic_transport.node_pool:Node <Urllib3HttpNode(http://5.35.83.33:9200)> has failed for 5 times in a row, putting on 16 second timeout\n",
            "212609705916it [03:41, 2054283590.82it/s]WARNING:elastic_transport.node_pool:Node <Urllib3HttpNode(http://5.35.83.33:9200)> has failed for 6 times in a row, putting on 30 second timeout\n",
            "219242831653it [03:44, 2107710702.90it/s]WARNING:elastic_transport.node_pool:Node <Urllib3HttpNode(http://5.35.83.33:9200)> has failed for 7 times in a row, putting on 30 second timeout\n",
            "225772176435it [03:48, 2162249317.88it/s]WARNING:elastic_transport.node_pool:Node <Urllib3HttpNode(http://5.35.83.33:9200)> has failed for 8 times in a row, putting on 30 second timeout\n",
            "232625771371it [03:51, 2185664930.92it/s]WARNING:elastic_transport.node_pool:Node <Urllib3HttpNode(http://5.35.83.33:9200)> has failed for 9 times in a row, putting on 30 second timeout\n",
            "239512624786it [03:54, 2197507892.83it/s]WARNING:elastic_transport.node_pool:Node <Urllib3HttpNode(http://5.35.83.33:9200)> has failed for 10 times in a row, putting on 30 second timeout\n",
            "247396682820it [03:57, 2024354912.93it/s]WARNING:elastic_transport.node_pool:Node <Urllib3HttpNode(http://5.35.83.33:9200)> has been marked alive after a successful request\n",
            "321106955653it [04:28, 2554797524.27it/s]WARNING:elastic_transport.node_pool:Node <Urllib3HttpNode(http://5.35.83.33:9200)> has failed for 1 times in a row, putting on 1 second timeout\n",
            "329590399050it [04:32, 2594780765.83it/s]WARNING:elastic_transport.node_pool:Node <Urllib3HttpNode(http://5.35.83.33:9200)> has failed for 2 times in a row, putting on 2 second timeout\n",
            "335181921903it [04:34, 2678384308.37it/s]WARNING:elastic_transport.node_pool:Node <Urllib3HttpNode(http://5.35.83.33:9200)> has been marked alive after a successful request\n",
            "354400751656it [04:41, 2708689991.04it/s]WARNING:elastic_transport.node_pool:Node <Urllib3HttpNode(http://5.35.83.33:9200)> has failed for 1 times in a row, putting on 1 second timeout\n",
            "367615824696it [04:46, 2751936764.98it/s]WARNING:elastic_transport.node_pool:Node <Urllib3HttpNode(http://5.35.83.33:9200)> has been marked alive after a successful request\n",
            "371225961996it [04:47, 2742675070.03it/s]WARNING:elastic_transport.node_pool:Node <Urllib3HttpNode(http://5.35.83.33:9200)> has failed for 1 times in a row, putting on 1 second timeout\n",
            "379918677141it [04:50, 2759452990.06it/s]WARNING:elastic_transport.node_pool:Node <Urllib3HttpNode(http://5.35.83.33:9200)> has failed for 2 times in a row, putting on 2 second timeout\n",
            "388680252040it [04:54, 2792946701.32it/s]WARNING:elastic_transport.node_pool:Node <Urllib3HttpNode(http://5.35.83.33:9200)> has failed for 3 times in a row, putting on 4 second timeout\n",
            "401930089653it [04:58, 2726805481.66it/s]WARNING:elastic_transport.node_pool:Node <Urllib3HttpNode(http://5.35.83.33:9200)> has been marked alive after a successful request\n",
            "414933625935it [05:03, 2771412501.08it/s]WARNING:elastic_transport.node_pool:Node <Urllib3HttpNode(http://5.35.83.33:9200)> has failed for 1 times in a row, putting on 1 second timeout\n",
            "422651397906it [05:06, 2940370113.79it/s]WARNING:elastic_transport.node_pool:Node <Urllib3HttpNode(http://5.35.83.33:9200)> has been marked alive after a successful request\n",
            "482057422671it [05:25, 3147330136.54it/s]WARNING:elastic_transport.node_pool:Node <Urllib3HttpNode(http://5.35.83.33:9200)> has failed for 1 times in a row, putting on 1 second timeout\n",
            "491948179570it [05:29, 3108772001.20it/s]WARNING:elastic_transport.node_pool:Node <Urllib3HttpNode(http://5.35.83.33:9200)> has failed for 2 times in a row, putting on 2 second timeout\n",
            "508145406328it [05:34, 3211660445.46it/s]WARNING:elastic_transport.node_pool:Node <Urllib3HttpNode(http://5.35.83.33:9200)> has been marked alive after a successful request\n",
            "521566165791it [05:38, 3179712624.83it/s]WARNING:elastic_transport.node_pool:Node <Urllib3HttpNode(http://5.35.83.33:9200)> has failed for 1 times in a row, putting on 1 second timeout\n",
            "532874809776it [05:41, 3264097303.68it/s]WARNING:elastic_transport.node_pool:Node <Urllib3HttpNode(http://5.35.83.33:9200)> has failed for 2 times in a row, putting on 2 second timeout\n",
            "533202115446it [05:41, 3254610995.47it/s]WARNING:elastic_transport.transport:Retrying request after failure (attempt 0 of 3)\n",
            "Traceback (most recent call last):\n",
            "  File \"/usr/local/lib/python3.10/dist-packages/elastic_transport/_transport.py\", line 328, in perform_request\n",
            "    meta, raw_data = node.perform_request(\n",
            "  File \"/usr/local/lib/python3.10/dist-packages/elastic_transport/_node/_http_urllib3.py\", line 202, in perform_request\n",
            "    raise err from None\n",
            "elastic_transport.ConnectionError: Connection error caused by: ProtocolError(('Connection aborted.', TimeoutError('timed out')))\n",
            "542612676411it [05:44, 3307745349.80it/s]WARNING:elastic_transport.node_pool:Node <Urllib3HttpNode(http://5.35.83.33:9200)> has failed for 3 times in a row, putting on 4 second timeout\n",
            "559844414781it [05:49, 3250010104.51it/s]WARNING:elastic_transport.node_pool:Node <Urllib3HttpNode(http://5.35.83.33:9200)> has been marked alive after a successful request\n",
            "566355005616it [05:51, 3443827072.73it/s]WARNING:elastic_transport.node_pool:Node <Urllib3HttpNode(http://5.35.83.33:9200)> has failed for 1 times in a row, putting on 1 second timeout\n",
            "570795372378it [05:53, 3389796574.44it/s]WARNING:elastic_transport.node_pool:Node <Urllib3HttpNode(http://5.35.83.33:9200)> has been marked alive after a successful request\n",
            "573889518840it [05:54, 3318144766.47it/s]WARNING:elastic_transport.node_pool:Node <Urllib3HttpNode(http://5.35.83.33:9200)> has failed for 1 times in a row, putting on 1 second timeout\n",
            "584692974271it [05:57, 3367146825.27it/s]WARNING:elastic_transport.node_pool:Node <Urllib3HttpNode(http://5.35.83.33:9200)> has failed for 2 times in a row, putting on 2 second timeout\n",
            "595637554240it [06:00, 3481536892.00it/s]WARNING:elastic_transport.node_pool:Node <Urllib3HttpNode(http://5.35.83.33:9200)> has failed for 3 times in a row, putting on 4 second timeout\n",
            "611663899861it [06:05, 3568099114.76it/s]WARNING:elastic_transport.node_pool:Node <Urllib3HttpNode(http://5.35.83.33:9200)> has been marked alive after a successful request\n",
            "628748234271it [06:10, 3560843024.68it/s]WARNING:elastic_transport.node_pool:Node <Urllib3HttpNode(http://5.35.83.33:9200)> has failed for 1 times in a row, putting on 1 second timeout\n",
            "644100582555it [06:14, 3332140038.49it/s]WARNING:elastic_transport.node_pool:Node <Urllib3HttpNode(http://5.35.83.33:9200)> has been marked alive after a successful request\n",
            "663288794106it [06:19, 3678319347.52it/s]WARNING:elastic_transport.node_pool:Node <Urllib3HttpNode(http://5.35.83.33:9200)> has failed for 1 times in a row, putting on 1 second timeout\n",
            "681604598395it [06:24, 3790164637.66it/s]WARNING:elastic_transport.node_pool:Node <Urllib3HttpNode(http://5.35.83.33:9200)> has been marked alive after a successful request\n",
            "686158680070it [06:25, 3662918360.00it/s]WARNING:elastic_transport.node_pool:Node <Urllib3HttpNode(http://5.35.83.33:9200)> has failed for 1 times in a row, putting on 1 second timeout\n",
            "698081599621it [06:29, 3764758029.67it/s]WARNING:elastic_transport.node_pool:Node <Urllib3HttpNode(http://5.35.83.33:9200)> has failed for 2 times in a row, putting on 2 second timeout\n",
            "710048823681it [06:32, 3800977683.99it/s]WARNING:elastic_transport.node_pool:Node <Urllib3HttpNode(http://5.35.83.33:9200)> has failed for 3 times in a row, putting on 4 second timeout\n",
            "722412217036it [06:35, 3789845495.23it/s]WARNING:elastic_transport.node_pool:Node <Urllib3HttpNode(http://5.35.83.33:9200)> has failed for 4 times in a row, putting on 8 second timeout\n",
            "733958807676it [06:38, 3780756695.86it/s]WARNING:elastic_transport.node_pool:Node <Urllib3HttpNode(http://5.35.83.33:9200)> has failed for 5 times in a row, putting on 16 second timeout\n",
            "745333201056it [06:55, 3786304064.67it/s]WARNING:elastic_transport.node_pool:Node <Urllib3HttpNode(http://5.35.83.33:9200)> has failed for 6 times in a row, putting on 30 second timeout\n",
            "WARNING:elastic_transport.node_pool:Node <Urllib3HttpNode(http://5.35.83.33:9200)> has failed for 7 times in a row, putting on 30 second timeout\n",
            "745334421985it [06:55, 85121675.71it/s]  WARNING:elastic_transport.node_pool:Node <Urllib3HttpNode(http://5.35.83.33:9200)> has failed for 8 times in a row, putting on 30 second timeout\n",
            "WARNING:elastic_transport.transport:Retrying request after failure (attempt 0 of 3)\n",
            "Traceback (most recent call last):\n",
            "  File \"/usr/local/lib/python3.10/dist-packages/elastic_transport/_transport.py\", line 328, in perform_request\n",
            "    meta, raw_data = node.perform_request(\n",
            "  File \"/usr/local/lib/python3.10/dist-packages/elastic_transport/_node/_http_urllib3.py\", line 202, in perform_request\n",
            "    raise err from None\n",
            "elastic_transport.ConnectionError: Connection error caused by: ProtocolError(('Connection aborted.', TimeoutError('timed out')))\n",
            "763626154110it [07:00, 3619723670.52it/s]WARNING:elastic_transport.node_pool:Node <Urllib3HttpNode(http://5.35.83.33:9200)> has failed for 9 times in a row, putting on 30 second timeout\n",
            "783226873990it [07:05, 3774464027.27it/s]WARNING:elastic_transport.node_pool:Node <Urllib3HttpNode(http://5.35.83.33:9200)> has failed for 10 times in a row, putting on 30 second timeout\n",
            "795549212578it [07:09, 3795109866.53it/s]WARNING:elastic_transport.node_pool:Node <Urllib3HttpNode(http://5.35.83.33:9200)> has failed for 11 times in a row, putting on 30 second timeout\n",
            "WARNING:elastic_transport.transport:Retrying request after failure (attempt 0 of 3)\n",
            "Traceback (most recent call last):\n",
            "  File \"/usr/local/lib/python3.10/dist-packages/elastic_transport/_transport.py\", line 328, in perform_request\n",
            "    meta, raw_data = node.perform_request(\n",
            "  File \"/usr/local/lib/python3.10/dist-packages/elastic_transport/_node/_http_urllib3.py\", line 202, in perform_request\n",
            "    raise err from None\n",
            "elastic_transport.ConnectionError: Connection error caused by: ProtocolError(('Connection aborted.', TimeoutError('timed out')))\n",
            "820812953170it [07:15, 3957175659.10it/s]WARNING:elastic_transport.node_pool:Node <Urllib3HttpNode(http://5.35.83.33:9200)> has failed for 12 times in a row, putting on 30 second timeout\n",
            "822852702675it [07:15, 4022318984.67it/s]WARNING:elastic_transport.node_pool:Node <Urllib3HttpNode(http://5.35.83.33:9200)> has been marked alive after a successful request\n",
            "859602396520it [07:24, 4032571047.19it/s]WARNING:elastic_transport.node_pool:Node <Urllib3HttpNode(http://5.35.83.33:9200)> has failed for 1 times in a row, putting on 1 second timeout\n",
            "872669118828it [07:28, 4139287041.76it/s]WARNING:elastic_transport.node_pool:Node <Urllib3HttpNode(http://5.35.83.33:9200)> has failed for 2 times in a row, putting on 2 second timeout\n",
            "886038067221it [07:31, 4060292419.33it/s]WARNING:elastic_transport.node_pool:Node <Urllib3HttpNode(http://5.35.83.33:9200)> has failed for 3 times in a row, putting on 4 second timeout\n",
            "904735111195it [07:35, 4054785371.11it/s]WARNING:elastic_transport.node_pool:Node <Urllib3HttpNode(http://5.35.83.33:9200)> has been marked alive after a successful request\n",
            "912436360881it [07:37, 4210920246.21it/s]WARNING:elastic_transport.node_pool:Node <Urllib3HttpNode(http://5.35.83.33:9200)> has failed for 1 times in a row, putting on 1 second timeout\n",
            "926481043230it [07:40, 4177251054.35it/s]WARNING:elastic_transport.node_pool:Node <Urllib3HttpNode(http://5.35.83.33:9200)> has failed for 2 times in a row, putting on 2 second timeout\n",
            "940469780601it [07:44, 4225201227.70it/s]WARNING:elastic_transport.node_pool:Node <Urllib3HttpNode(http://5.35.83.33:9200)> has failed for 3 times in a row, putting on 4 second timeout\n",
            "954467998903it [07:47, 4358546119.05it/s]WARNING:elastic_transport.node_pool:Node <Urllib3HttpNode(http://5.35.83.33:9200)> has failed for 4 times in a row, putting on 8 second timeout\n",
            "967154670615it [07:50, 4051582745.55it/s]WARNING:elastic_transport.node_pool:Node <Urllib3HttpNode(http://5.35.83.33:9200)> has failed for 5 times in a row, putting on 16 second timeout\n",
            "981530096778it [07:53, 4426683582.82it/s]WARNING:elastic_transport.node_pool:Node <Urllib3HttpNode(http://5.35.83.33:9200)> has failed for 6 times in a row, putting on 30 second timeout\n",
            "996100491331it [07:57, 4385197580.19it/s]WARNING:elastic_transport.node_pool:Node <Urllib3HttpNode(http://5.35.83.33:9200)> has failed for 7 times in a row, putting on 30 second timeout\n",
            "1010037606571it [08:00, 4354325794.49it/s]WARNING:elastic_transport.node_pool:Node <Urllib3HttpNode(http://5.35.83.33:9200)> has failed for 8 times in a row, putting on 30 second timeout\n",
            "1023918421851it [08:03, 4143995326.67it/s]WARNING:elastic_transport.node_pool:Node <Urllib3HttpNode(http://5.35.83.33:9200)> has failed for 9 times in a row, putting on 30 second timeout\n",
            "1038466028746it [08:06, 4562841322.42it/s]WARNING:elastic_transport.node_pool:Node <Urllib3HttpNode(http://5.35.83.33:9200)> has failed for 10 times in a row, putting on 30 second timeout\n",
            "1053512491020it [08:09, 4611201861.55it/s]WARNING:elastic_transport.node_pool:Node <Urllib3HttpNode(http://5.35.83.33:9200)> has failed for 11 times in a row, putting on 30 second timeout\n",
            "1068696415153it [08:13, 4642313988.63it/s]WARNING:elastic_transport.node_pool:Node <Urllib3HttpNode(http://5.35.83.33:9200)> has failed for 12 times in a row, putting on 30 second timeout\n",
            "1083494306415it [08:16, 4699130101.47it/s]WARNING:elastic_transport.node_pool:Node <Urllib3HttpNode(http://5.35.83.33:9200)> has failed for 13 times in a row, putting on 30 second timeout\n",
            "1103193954136it [08:20, 4821808177.37it/s]WARNING:elastic_transport.node_pool:Node <Urllib3HttpNode(http://5.35.83.33:9200)> has been marked alive after a successful request\n",
            "1113008874120it [08:22, 4846013829.86it/s]WARNING:elastic_transport.node_pool:Node <Urllib3HttpNode(http://5.35.83.33:9200)> has failed for 1 times in a row, putting on 1 second timeout\n",
            "1128262612051it [08:25, 4833077946.21it/s]WARNING:elastic_transport.node_pool:Node <Urllib3HttpNode(http://5.35.83.33:9200)> has failed for 2 times in a row, putting on 2 second timeout\n",
            "1142920049050it [08:28, 4713858654.42it/s]WARNING:elastic_transport.node_pool:Node <Urllib3HttpNode(http://5.35.83.33:9200)> has failed for 3 times in a row, putting on 4 second timeout\n",
            "1158113394570it [08:31, 4783152125.23it/s]WARNING:elastic_transport.node_pool:Node <Urllib3HttpNode(http://5.35.83.33:9200)> has failed for 4 times in a row, putting on 8 second timeout\n",
            "1173462210528it [08:34, 4913552655.11it/s]WARNING:elastic_transport.node_pool:Node <Urllib3HttpNode(http://5.35.83.33:9200)> has failed for 5 times in a row, putting on 16 second timeout\n",
            "1188896649045it [08:38, 4875508445.72it/s]WARNING:elastic_transport.node_pool:Node <Urllib3HttpNode(http://5.35.83.33:9200)> has failed for 6 times in a row, putting on 30 second timeout\n",
            "1204521949995it [08:41, 5009904664.53it/s]WARNING:elastic_transport.node_pool:Node <Urllib3HttpNode(http://5.35.83.33:9200)> has failed for 7 times in a row, putting on 30 second timeout\n",
            "1219491706950it [08:44, 4774278090.86it/s]WARNING:elastic_transport.node_pool:Node <Urllib3HttpNode(http://5.35.83.33:9200)> has failed for 8 times in a row, putting on 30 second timeout\n",
            "1235047362031it [08:47, 5015359536.27it/s]WARNING:elastic_transport.node_pool:Node <Urllib3HttpNode(http://5.35.83.33:9200)> has failed for 9 times in a row, putting on 30 second timeout\n",
            "1250891399253it [08:50, 5033682927.00it/s]WARNING:elastic_transport.node_pool:Node <Urllib3HttpNode(http://5.35.83.33:9200)> has failed for 10 times in a row, putting on 30 second timeout\n",
            "1266795033675it [08:53, 5007435720.05it/s]WARNING:elastic_transport.node_pool:Node <Urllib3HttpNode(http://5.35.83.33:9200)> has failed for 11 times in a row, putting on 30 second timeout\n",
            "1282717440753it [08:56, 4902655884.24it/s]WARNING:elastic_transport.node_pool:Node <Urllib3HttpNode(http://5.35.83.33:9200)> has failed for 12 times in a row, putting on 30 second timeout\n",
            "1307233737846it [09:01, 5207145834.88it/s]WARNING:elastic_transport.node_pool:Node <Urllib3HttpNode(http://5.35.83.33:9200)> has been marked alive after a successful request\n",
            "1315209253296it [09:03, 5243782848.61it/s]WARNING:elastic_transport.node_pool:Node <Urllib3HttpNode(http://5.35.83.33:9200)> has failed for 1 times in a row, putting on 1 second timeout\n",
            "1331738928136it [09:06, 5250343236.03it/s]WARNING:elastic_transport.node_pool:Node <Urllib3HttpNode(http://5.35.83.33:9200)> has failed for 2 times in a row, putting on 2 second timeout\n",
            "1349296532430it [09:09, 5206764921.68it/s]WARNING:elastic_transport.node_pool:Node <Urllib3HttpNode(http://5.35.83.33:9200)> has failed for 3 times in a row, putting on 4 second timeout\n",
            "1349818974153it [09:09, 5168262385.80it/s]WARNING:elastic_transport.transport:Retrying request after failure (attempt 0 of 3)\n",
            "Traceback (most recent call last):\n",
            "  File \"/usr/local/lib/python3.10/dist-packages/elastic_transport/_transport.py\", line 328, in perform_request\n",
            "    meta, raw_data = node.perform_request(\n",
            "  File \"/usr/local/lib/python3.10/dist-packages/elastic_transport/_node/_http_urllib3.py\", line 202, in perform_request\n",
            "    raise err from None\n",
            "elastic_transport.ConnectionError: Connection error caused by: ProtocolError(('Connection aborted.', TimeoutError('timed out')))\n",
            "1364706466371it [09:12, 5293726992.52it/s]WARNING:elastic_transport.node_pool:Node <Urllib3HttpNode(http://5.35.83.33:9200)> has failed for 4 times in a row, putting on 8 second timeout\n",
            "1380803745336it [09:15, 5322624419.52it/s]WARNING:elastic_transport.node_pool:Node <Urllib3HttpNode(http://5.35.83.33:9200)> has failed for 5 times in a row, putting on 16 second timeout\n",
            "1397562109453it [09:18, 5248028881.57it/s]WARNING:elastic_transport.node_pool:Node <Urllib3HttpNode(http://5.35.83.33:9200)> has failed for 6 times in a row, putting on 30 second timeout\n",
            "1409961271953it [09:21, 5177431019.23it/s]WARNING:elastic_transport.node_pool:Node <Urllib3HttpNode(http://5.35.83.33:9200)> has been marked alive after a successful request\n",
            "1430507471331it [09:25, 5401178820.50it/s]WARNING:elastic_transport.node_pool:Node <Urllib3HttpNode(http://5.35.83.33:9200)> has failed for 1 times in a row, putting on 1 second timeout\n",
            "1455367278828it [09:29, 5471364083.34it/s]WARNING:elastic_transport.node_pool:Node <Urllib3HttpNode(http://5.35.83.33:9200)> has been marked alive after a successful request\n",
            "1481874948235it [09:34, 5307443714.16it/s]WARNING:elastic_transport.node_pool:Node <Urllib3HttpNode(http://5.35.83.33:9200)> has failed for 1 times in a row, putting on 1 second timeout\n",
            "1490177551635it [09:36, 5612003128.59it/s]WARNING:elastic_transport.node_pool:Node <Urllib3HttpNode(http://5.35.83.33:9200)> has been marked alive after a successful request\n",
            "1499150882580it [09:37, 5508394390.23it/s]WARNING:elastic_transport.node_pool:Node <Urllib3HttpNode(http://5.35.83.33:9200)> has failed for 1 times in a row, putting on 1 second timeout\n",
            "1526222009250it [09:42, 5568495031.83it/s]WARNING:elastic_transport.node_pool:Node <Urllib3HttpNode(http://5.35.83.33:9200)> has been marked alive after a successful request\n",
            "1534067920245it [09:44, 5494267620.26it/s]WARNING:elastic_transport.node_pool:Node <Urllib3HttpNode(http://5.35.83.33:9200)> has failed for 1 times in a row, putting on 1 second timeout\n",
            "1551582928990it [09:47, 5463863554.60it/s]WARNING:elastic_transport.node_pool:Node <Urllib3HttpNode(http://5.35.83.33:9200)> has failed for 2 times in a row, putting on 2 second timeout\n",
            "1569225703528it [09:50, 5544970354.14it/s]WARNING:elastic_transport.node_pool:Node <Urllib3HttpNode(http://5.35.83.33:9200)> has failed for 3 times in a row, putting on 4 second timeout\n",
            "1586677838136it [09:53, 5419875993.79it/s]WARNING:elastic_transport.node_pool:Node <Urllib3HttpNode(http://5.35.83.33:9200)> has failed for 4 times in a row, putting on 8 second timeout\n",
            "1604402027641it [09:56, 5548905987.34it/s]WARNING:elastic_transport.node_pool:Node <Urllib3HttpNode(http://5.35.83.33:9200)> has failed for 5 times in a row, putting on 16 second timeout\n",
            "1623083966328it [10:00, 5744974954.92it/s]WARNING:elastic_transport.node_pool:Node <Urllib3HttpNode(http://5.35.83.33:9200)> has failed for 6 times in a row, putting on 30 second timeout\n",
            "1641053260311it [10:03, 5700455240.66it/s]WARNING:elastic_transport.node_pool:Node <Urllib3HttpNode(http://5.35.83.33:9200)> has failed for 7 times in a row, putting on 30 second timeout\n",
            "1659054078528it [10:06, 5526878693.70it/s]WARNING:elastic_transport.node_pool:Node <Urllib3HttpNode(http://5.35.83.33:9200)> has failed for 8 times in a row, putting on 30 second timeout\n",
            "1678241158485it [10:09, 5822933138.39it/s]WARNING:elastic_transport.node_pool:Node <Urllib3HttpNode(http://5.35.83.33:9200)> has failed for 9 times in a row, putting on 30 second timeout\n",
            "1678825639855it [10:09, 5812502795.68it/s]WARNING:elastic_transport.transport:Retrying request after failure (attempt 0 of 3)\n",
            "Traceback (most recent call last):\n",
            "  File \"/usr/local/lib/python3.10/dist-packages/elastic_transport/_transport.py\", line 328, in perform_request\n",
            "    meta, raw_data = node.perform_request(\n",
            "  File \"/usr/local/lib/python3.10/dist-packages/elastic_transport/_node/_http_urllib3.py\", line 202, in perform_request\n",
            "    raise err from None\n",
            "elastic_transport.ConnectionError: Connection error caused by: ProtocolError(('Connection aborted.', TimeoutError('timed out')))\n",
            "1695501276778it [10:12, 5731107821.35it/s]WARNING:elastic_transport.node_pool:Node <Urllib3HttpNode(http://5.35.83.33:9200)> has failed for 10 times in a row, putting on 30 second timeout\n",
            "1713897448165it [10:15, 5687519545.46it/s]WARNING:elastic_transport.node_pool:Node <Urllib3HttpNode(http://5.35.83.33:9200)> has failed for 11 times in a row, putting on 30 second timeout\n",
            "1734318096378it [10:19, 5924544225.49it/s]WARNING:elastic_transport.node_pool:Node <Urllib3HttpNode(http://5.35.83.33:9200)> has been marked alive after a successful request\n",
            "1737276892120it [10:19, 5791361024.11it/s]WARNING:elastic_transport.node_pool:Node <Urllib3HttpNode(http://5.35.83.33:9200)> has failed for 1 times in a row, putting on 1 second timeout\n",
            "1753924964275it [10:22, 5866371375.72it/s]WARNING:elastic_transport.node_pool:Node <Urllib3HttpNode(http://5.35.83.33:9200)> has been marked alive after a successful request\n",
            "1788663880653it [10:28, 5945930379.17it/s]WARNING:elastic_transport.node_pool:Node <Urllib3HttpNode(http://5.35.83.33:9200)> has failed for 1 times in a row, putting on 1 second timeout\n",
            "1807804538550it [10:31, 6031450063.87it/s]WARNING:elastic_transport.node_pool:Node <Urllib3HttpNode(http://5.35.83.33:9200)> has failed for 2 times in a row, putting on 2 second timeout\n",
            "1865374131855it [10:41, 6025302043.06it/s]WARNING:elastic_transport.node_pool:Node <Urllib3HttpNode(http://5.35.83.33:9200)> has failed for 3 times in a row, putting on 4 second timeout\n",
            "1867866617610it [10:41, 6157793252.55it/s]WARNING:elastic_transport.node_pool:Node <Urllib3HttpNode(http://5.35.83.33:9200)> has been marked alive after a successful request\n",
            "1884086984431it [10:44, 5942176901.72it/s]WARNING:elastic_transport.node_pool:Node <Urllib3HttpNode(http://5.35.83.33:9200)> has failed for 1 times in a row, putting on 1 second timeout\n",
            "1903537062378it [10:47, 5826715171.69it/s]WARNING:elastic_transport.node_pool:Node <Urllib3HttpNode(http://5.35.83.33:9200)> has failed for 2 times in a row, putting on 2 second timeout\n",
            "1922894830846it [10:50, 5850995036.31it/s]WARNING:elastic_transport.node_pool:Node <Urllib3HttpNode(http://5.35.83.33:9200)> has failed for 3 times in a row, putting on 4 second timeout\n",
            "1943237565405it [10:54, 6277020414.42it/s]WARNING:elastic_transport.node_pool:Node <Urllib3HttpNode(http://5.35.83.33:9200)> has failed for 4 times in a row, putting on 8 second timeout\n",
            "1962904622295it [10:57, 6061789059.34it/s]WARNING:elastic_transport.node_pool:Node <Urllib3HttpNode(http://5.35.83.33:9200)> has failed for 5 times in a row, putting on 16 second timeout\n",
            "1983321915546it [11:00, 6348354420.36it/s]WARNING:elastic_transport.node_pool:Node <Urllib3HttpNode(http://5.35.83.33:9200)> has failed for 6 times in a row, putting on 30 second timeout\n",
            "2003192272810it [11:03, 6284034827.12it/s]WARNING:elastic_transport.node_pool:Node <Urllib3HttpNode(http://5.35.83.33:9200)> has failed for 7 times in a row, putting on 30 second timeout\n",
            "2023137533880it [11:06, 6301250171.49it/s]WARNING:elastic_transport.node_pool:Node <Urllib3HttpNode(http://5.35.83.33:9200)> has failed for 8 times in a row, putting on 30 second timeout\n",
            "2043268522921it [11:09, 6293298641.43it/s]WARNING:elastic_transport.node_pool:Node <Urllib3HttpNode(http://5.35.83.33:9200)> has failed for 9 times in a row, putting on 30 second timeout\n",
            "2064252928128it [11:13, 6521493726.60it/s]WARNING:elastic_transport.node_pool:Node <Urllib3HttpNode(http://5.35.83.33:9200)> has failed for 10 times in a row, putting on 30 second timeout\n",
            "2083913183575it [11:16, 6084581073.30it/s]WARNING:elastic_transport.node_pool:Node <Urllib3HttpNode(http://5.35.83.33:9200)> has failed for 11 times in a row, putting on 30 second timeout\n",
            "2118815080525it [11:21, 6581295587.37it/s]WARNING:elastic_transport.node_pool:Node <Urllib3HttpNode(http://5.35.83.33:9200)> has been marked alive after a successful request\n",
            "2145519873903it [11:25, 6483977079.23it/s]WARNING:elastic_transport.node_pool:Node <Urllib3HttpNode(http://5.35.83.33:9200)> has failed for 1 times in a row, putting on 1 second timeout\n",
            "2175845065485it [11:30, 6693872090.90it/s]WARNING:elastic_transport.node_pool:Node <Urllib3HttpNode(http://5.35.83.33:9200)> has been marked alive after a successful request\n",
            "2187306387903it [11:32, 6602410230.09it/s]WARNING:elastic_transport.node_pool:Node <Urllib3HttpNode(http://5.35.83.33:9200)> has failed for 1 times in a row, putting on 1 second timeout\n",
            "2208362330800it [11:35, 6719163441.24it/s]WARNING:elastic_transport.node_pool:Node <Urllib3HttpNode(http://5.35.83.33:9200)> has failed for 2 times in a row, putting on 2 second timeout\n",
            "2230251936045it [11:38, 6780829078.08it/s]WARNING:elastic_transport.node_pool:Node <Urllib3HttpNode(http://5.35.83.33:9200)> has failed for 3 times in a row, putting on 4 second timeout\n",
            "2259501128115it [11:42, 6823885022.11it/s]WARNING:elastic_transport.node_pool:Node <Urllib3HttpNode(http://5.35.83.33:9200)> has been marked alive after a successful request\n",
            "2271883793466it [11:44, 6759299667.51it/s]WARNING:elastic_transport.node_pool:Node <Urllib3HttpNode(http://5.35.83.33:9200)> has failed for 1 times in a row, putting on 1 second timeout\n",
            "2292363367003it [11:47, 6246421314.76it/s]WARNING:elastic_transport.node_pool:Node <Urllib3HttpNode(http://5.35.83.33:9200)> has failed for 2 times in a row, putting on 2 second timeout\n",
            "2313896332065it [11:50, 6685673538.82it/s]WARNING:elastic_transport.node_pool:Node <Urllib3HttpNode(http://5.35.83.33:9200)> has failed for 3 times in a row, putting on 4 second timeout\n",
            "2336249714406it [11:54, 6848110497.45it/s]WARNING:elastic_transport.node_pool:Node <Urllib3HttpNode(http://5.35.83.33:9200)> has failed for 4 times in a row, putting on 8 second timeout\n",
            "2358032947075it [11:57, 6923197483.44it/s]WARNING:elastic_transport.node_pool:Node <Urllib3HttpNode(http://5.35.83.33:9200)> has failed for 5 times in a row, putting on 16 second timeout\n",
            "2380613277276it [12:00, 6941859873.56it/s]WARNING:elastic_transport.node_pool:Node <Urllib3HttpNode(http://5.35.83.33:9200)> has failed for 6 times in a row, putting on 30 second timeout\n",
            "2402520776820it [12:03, 7015031999.76it/s]WARNING:elastic_transport.node_pool:Node <Urllib3HttpNode(http://5.35.83.33:9200)> has failed for 7 times in a row, putting on 30 second timeout\n",
            "2423951711910it [12:06, 6952228441.09it/s]WARNING:elastic_transport.node_pool:Node <Urllib3HttpNode(http://5.35.83.33:9200)> has failed for 8 times in a row, putting on 30 second timeout\n",
            "2446265182371it [12:09, 7073757387.29it/s]WARNING:elastic_transport.node_pool:Node <Urllib3HttpNode(http://5.35.83.33:9200)> has failed for 9 times in a row, putting on 30 second timeout\n",
            "2468447578828it [12:13, 7009758904.55it/s]WARNING:elastic_transport.node_pool:Node <Urllib3HttpNode(http://5.35.83.33:9200)> has failed for 10 times in a row, putting on 30 second timeout\n",
            "2490723399570it [12:16, 7079757301.89it/s]WARNING:elastic_transport.node_pool:Node <Urllib3HttpNode(http://5.35.83.33:9200)> has failed for 11 times in a row, putting on 30 second timeout\n",
            "2513321235153it [12:19, 7125028611.38it/s]WARNING:elastic_transport.node_pool:Node <Urllib3HttpNode(http://5.35.83.33:9200)> has failed for 12 times in a row, putting on 30 second timeout\n",
            "2536063911591it [12:22, 7224104513.99it/s]WARNING:elastic_transport.node_pool:Node <Urllib3HttpNode(http://5.35.83.33:9200)> has failed for 13 times in a row, putting on 30 second timeout\n",
            "2555157310300it [12:25, 6961726559.81it/s]WARNING:elastic_transport.node_pool:Node <Urllib3HttpNode(http://5.35.83.33:9200)> has been marked alive after a successful request\n",
            "2624941921953it [12:35, 7182388278.34it/s]WARNING:elastic_transport.node_pool:Node <Urllib3HttpNode(http://5.35.83.33:9200)> has failed for 1 times in a row, putting on 1 second timeout\n",
            "2648790607128it [12:38, 7213680803.23it/s]WARNING:elastic_transport.node_pool:Node <Urllib3HttpNode(http://5.35.83.33:9200)> has failed for 2 times in a row, putting on 2 second timeout\n",
            "2683175310991it [12:42, 7453151969.53it/s]WARNING:elastic_transport.node_pool:Node <Urllib3HttpNode(http://5.35.83.33:9200)> has been marked alive after a successful request\n",
            "2695069990278it [12:44, 7387298241.92it/s]WARNING:elastic_transport.node_pool:Node <Urllib3HttpNode(http://5.35.83.33:9200)> has failed for 1 times in a row, putting on 1 second timeout\n",
            "2718588491200it [12:47, 7413322001.88it/s]WARNING:elastic_transport.node_pool:Node <Urllib3HttpNode(http://5.35.83.33:9200)> has failed for 2 times in a row, putting on 2 second timeout\n",
            "2741928144966it [12:50, 7402982435.82it/s]WARNING:elastic_transport.node_pool:Node <Urllib3HttpNode(http://5.35.83.33:9200)> has failed for 3 times in a row, putting on 4 second timeout\n",
            "2778993889491it [12:55, 7437101184.59it/s]WARNING:elastic_transport.node_pool:Node <Urllib3HttpNode(http://5.35.83.33:9200)> has been marked alive after a successful request\n",
            "2787992814628it [12:57, 7209040645.57it/s]WARNING:elastic_transport.node_pool:Node <Urllib3HttpNode(http://5.35.83.33:9200)> has failed for 1 times in a row, putting on 1 second timeout\n",
            "2823447183040it [13:01, 7595357548.47it/s]WARNING:elastic_transport.node_pool:Node <Urllib3HttpNode(http://5.35.83.33:9200)> has been marked alive after a successful request\n",
            "2893800893896it [13:27, 7747486262.02it/s]WARNING:elastic_transport.node_pool:Node <Urllib3HttpNode(http://5.35.83.33:9200)> has failed for 1 times in a row, putting on 1 second timeout\n",
            "2893803299640it [13:27, 141083638.84it/s] WARNING:elastic_transport.node_pool:Node <Urllib3HttpNode(http://5.35.83.33:9200)> has been marked alive after a successful request\n",
            "2893904341791it [13:27, 148734695.61it/s]WARNING:elastic_transport.transport:Retrying request after failure (attempt 0 of 3)\n",
            "Traceback (most recent call last):\n",
            "  File \"/usr/local/lib/python3.10/dist-packages/elastic_transport/_transport.py\", line 328, in perform_request\n",
            "    meta, raw_data = node.perform_request(\n",
            "  File \"/usr/local/lib/python3.10/dist-packages/elastic_transport/_node/_http_urllib3.py\", line 202, in perform_request\n",
            "    raise err from None\n",
            "elastic_transport.ConnectionError: Connection error caused by: ProtocolError(('Connection aborted.', TimeoutError('timed out')))\n",
            "2981490306081it [13:38, 7668444725.89it/s]WARNING:elastic_transport.node_pool:Node <Urllib3HttpNode(http://5.35.83.33:9200)> has failed for 1 times in a row, putting on 1 second timeout\n",
            "2982262003203it [13:38, 7677374435.18it/s]WARNING:elastic_transport.node_pool:Node <Urllib3HttpNode(http://5.35.83.33:9200)> has been marked alive after a successful request\n",
            "3005067087903it [13:41, 7766585175.60it/s]WARNING:elastic_transport.node_pool:Node <Urllib3HttpNode(http://5.35.83.33:9200)> has failed for 1 times in a row, putting on 1 second timeout\n",
            "3029718818028it [13:44, 7798772465.34it/s]WARNING:elastic_transport.node_pool:Node <Urllib3HttpNode(http://5.35.83.33:9200)> has failed for 2 times in a row, putting on 2 second timeout\n",
            "3054409459003it [13:48, 7753356931.67it/s]WARNING:elastic_transport.node_pool:Node <Urllib3HttpNode(http://5.35.83.33:9200)> has failed for 3 times in a row, putting on 4 second timeout\n",
            "3103989185571it [13:54, 7775892618.25it/s]WARNING:elastic_transport.node_pool:Node <Urllib3HttpNode(http://5.35.83.33:9200)> has failed for 4 times in a row, putting on 8 second timeout\n",
            "3128684835601it [13:57, 7692996077.82it/s]WARNING:elastic_transport.node_pool:Node <Urllib3HttpNode(http://5.35.83.33:9200)> has failed for 5 times in a row, putting on 16 second timeout\n",
            "WARNING:elastic_transport.node_pool:Node <Urllib3HttpNode(http://5.35.83.33:9200)> has been marked alive after a successful request\n",
            "3254207397220it [14:13, 7846886688.08it/s]WARNING:elastic_transport.node_pool:Node <Urllib3HttpNode(http://5.35.83.33:9200)> has failed for 1 times in a row, putting on 1 second timeout\n",
            "3324409769715it [14:22, 8239169085.98it/s]WARNING:elastic_transport.node_pool:Node <Urllib3HttpNode(http://5.35.83.33:9200)> has been marked alive after a successful request\n",
            "3357297350631it [14:26, 7811291710.69it/s]WARNING:elastic_transport.node_pool:Node <Urllib3HttpNode(http://5.35.83.33:9200)> has failed for 1 times in a row, putting on 1 second timeout\n",
            "3383897222751it [14:29, 8006521258.17it/s]WARNING:elastic_transport.node_pool:Node <Urllib3HttpNode(http://5.35.83.33:9200)> has failed for 2 times in a row, putting on 2 second timeout\n",
            "3410053610811it [14:32, 8208963347.46it/s]WARNING:elastic_transport.node_pool:Node <Urllib3HttpNode(http://5.35.83.33:9200)> has failed for 3 times in a row, putting on 4 second timeout\n",
            "3447041279311it [14:36, 8280935154.57it/s]WARNING:elastic_transport.node_pool:Node <Urllib3HttpNode(http://5.35.83.33:9200)> has been marked alive after a successful request\n",
            "3462368494305it [14:38, 8246487019.48it/s]WARNING:elastic_transport.node_pool:Node <Urllib3HttpNode(http://5.35.83.33:9200)> has failed for 1 times in a row, putting on 1 second timeout\n",
            "3488485093710it [14:42, 7911740739.07it/s]WARNING:elastic_transport.node_pool:Node <Urllib3HttpNode(http://5.35.83.33:9200)> has failed for 2 times in a row, putting on 2 second timeout\n",
            "3514593770691it [14:45, 8180361247.80it/s]WARNING:elastic_transport.node_pool:Node <Urllib3HttpNode(http://5.35.83.33:9200)> has failed for 3 times in a row, putting on 4 second timeout\n",
            "3541220256255it [14:48, 8380882125.52it/s]WARNING:elastic_transport.node_pool:Node <Urllib3HttpNode(http://5.35.83.33:9200)> has failed for 4 times in a row, putting on 8 second timeout\n",
            "3568724615800it [14:51, 8262382985.35it/s]WARNING:elastic_transport.node_pool:Node <Urllib3HttpNode(http://5.35.83.33:9200)> has failed for 5 times in a row, putting on 16 second timeout\n",
            "3596386331145it [14:54, 8494596293.21it/s]WARNING:elastic_transport.node_pool:Node <Urllib3HttpNode(http://5.35.83.33:9200)> has failed for 6 times in a row, putting on 30 second timeout\n",
            "3622337784621it [14:57, 8433548686.92it/s]WARNING:elastic_transport.node_pool:Node <Urllib3HttpNode(http://5.35.83.33:9200)> has failed for 7 times in a row, putting on 30 second timeout\n",
            "3650103435105it [15:01, 8579213476.12it/s]WARNING:elastic_transport.node_pool:Node <Urllib3HttpNode(http://5.35.83.33:9200)> has failed for 8 times in a row, putting on 30 second timeout\n",
            "3676320846100it [15:04, 8464846144.53it/s]WARNING:elastic_transport.node_pool:Node <Urllib3HttpNode(http://5.35.83.33:9200)> has failed for 9 times in a row, putting on 30 second timeout\n",
            "3704210575561it [15:07, 8669723870.27it/s]WARNING:elastic_transport.node_pool:Node <Urllib3HttpNode(http://5.35.83.33:9200)> has been marked alive after a successful request\n",
            "3758060538235it [15:13, 8738426388.30it/s]WARNING:elastic_transport.node_pool:Node <Urllib3HttpNode(http://5.35.83.33:9200)> has failed for 1 times in a row, putting on 1 second timeout\n",
            "3785768223903it [15:16, 8537042738.71it/s]WARNING:elastic_transport.node_pool:Node <Urllib3HttpNode(http://5.35.83.33:9200)> has failed for 2 times in a row, putting on 2 second timeout\n",
            "3824668553896it [15:21, 8069662754.15it/s]WARNING:elastic_transport.node_pool:Node <Urllib3HttpNode(http://5.35.83.33:9200)> has been marked alive after a successful request\n",
            "3868789752075it [15:26, 8965783745.81it/s]WARNING:elastic_transport.node_pool:Node <Urllib3HttpNode(http://5.35.83.33:9200)> has failed for 1 times in a row, putting on 1 second timeout\n",
            "3896614382430it [15:29, 8653936976.14it/s]WARNING:elastic_transport.node_pool:Node <Urllib3HttpNode(http://5.35.83.33:9200)> has failed for 2 times in a row, putting on 2 second timeout\n",
            "3924443458491it [15:32, 8761521944.54it/s]WARNING:elastic_transport.node_pool:Node <Urllib3HttpNode(http://5.35.83.33:9200)> has failed for 3 times in a row, putting on 4 second timeout\n",
            "3925326007851it [15:32, 8755647248.03it/s]WARNING:elastic_transport.transport:Retrying request after failure (attempt 0 of 3)\n",
            "Traceback (most recent call last):\n",
            "  File \"/usr/local/lib/python3.10/dist-packages/elastic_transport/_transport.py\", line 328, in perform_request\n",
            "    meta, raw_data = node.perform_request(\n",
            "  File \"/usr/local/lib/python3.10/dist-packages/elastic_transport/_node/_http_urllib3.py\", line 202, in perform_request\n",
            "    raise err from None\n",
            "elastic_transport.ConnectionError: Connection error caused by: ProtocolError(('Connection aborted.', TimeoutError('timed out')))\n",
            "3952382803111it [15:35, 8849434647.44it/s]WARNING:elastic_transport.node_pool:Node <Urllib3HttpNode(http://5.35.83.33:9200)> has failed for 4 times in a row, putting on 8 second timeout\n",
            "3980573612025it [15:39, 8791131470.15it/s]WARNING:elastic_transport.node_pool:Node <Urllib3HttpNode(http://5.35.83.33:9200)> has failed for 5 times in a row, putting on 16 second timeout\n",
            "4009017506691it [15:42, 8980559450.20it/s]WARNING:elastic_transport.node_pool:Node <Urllib3HttpNode(http://5.35.83.33:9200)> has failed for 6 times in a row, putting on 30 second timeout\n",
            "4014484383196it [15:42, 8963988749.27it/s]WARNING:elastic_transport.node_pool:Node <Urllib3HttpNode(http://5.35.83.33:9200)> has failed for 7 times in a row, putting on 30 second timeout\n",
            "4053665419453it [15:47, 8953172130.59it/s]WARNING:elastic_transport.node_pool:Node <Urllib3HttpNode(http://5.35.83.33:9200)> has been marked alive after a successful request\n",
            "4065136904566it [15:48, 8807605025.23it/s]WARNING:elastic_transport.node_pool:Node <Urllib3HttpNode(http://5.35.83.33:9200)> has failed for 1 times in a row, putting on 1 second timeout\n",
            "4093394379396it [15:51, 8586249695.52it/s]WARNING:elastic_transport.node_pool:Node <Urllib3HttpNode(http://5.35.83.33:9200)> has failed for 2 times in a row, putting on 2 second timeout\n",
            "4122125854840it [15:54, 8907803193.63it/s]WARNING:elastic_transport.node_pool:Node <Urllib3HttpNode(http://5.35.83.33:9200)> has failed for 3 times in a row, putting on 4 second timeout\n",
            "4152107530956it [15:58, 9137805047.94it/s]WARNING:elastic_transport.node_pool:Node <Urllib3HttpNode(http://5.35.83.33:9200)> has failed for 4 times in a row, putting on 8 second timeout\n",
            "4180763474265it [16:01, 8997666392.53it/s]WARNING:elastic_transport.node_pool:Node <Urllib3HttpNode(http://5.35.83.33:9200)> has failed for 5 times in a row, putting on 16 second timeout\n",
            "4209428015101it [16:04, 9024636407.91it/s]WARNING:elastic_transport.node_pool:Node <Urllib3HttpNode(http://5.35.83.33:9200)> has failed for 6 times in a row, putting on 30 second timeout\n",
            "4250523497340it [16:08, 9283265721.01it/s]WARNING:elastic_transport.node_pool:Node <Urllib3HttpNode(http://5.35.83.33:9200)> has been marked alive after a successful request\n",
            "4474280355405it [16:33, 9598459538.05it/s]WARNING:elastic_transport.node_pool:Node <Urllib3HttpNode(http://5.35.83.33:9200)> has failed for 1 times in a row, putting on 1 second timeout\n",
            "4503251086986it [16:36, 9068867119.69it/s]WARNING:elastic_transport.node_pool:Node <Urllib3HttpNode(http://5.35.83.33:9200)> has failed for 2 times in a row, putting on 2 second timeout\n",
            "4534019554221it [16:39, 9228702908.07it/s]WARNING:elastic_transport.node_pool:Node <Urllib3HttpNode(http://5.35.83.33:9200)> has been marked alive after a successful request\n",
            "4564370062890it [16:42, 9531282511.80it/s]WARNING:elastic_transport.node_pool:Node <Urllib3HttpNode(http://5.35.83.33:9200)> has failed for 1 times in a row, putting on 1 second timeout\n",
            "4594354985116it [16:45, 9344770408.60it/s]WARNING:elastic_transport.node_pool:Node <Urllib3HttpNode(http://5.35.83.33:9200)> has failed for 2 times in a row, putting on 2 second timeout\n",
            "4625724591390it [16:49, 9512910022.50it/s]WARNING:elastic_transport.node_pool:Node <Urllib3HttpNode(http://5.35.83.33:9200)> has failed for 3 times in a row, putting on 4 second timeout\n",
            "4656135857401it [16:52, 9525044595.63it/s]WARNING:elastic_transport.node_pool:Node <Urllib3HttpNode(http://5.35.83.33:9200)> has failed for 4 times in a row, putting on 8 second timeout\n",
            "4686735550078it [16:55, 9556642860.80it/s]WARNING:elastic_transport.node_pool:Node <Urllib3HttpNode(http://5.35.83.33:9200)> has failed for 5 times in a row, putting on 16 second timeout\n",
            "4702476247875it [16:57, 9806277666.93it/s]"
          ]
        }
      ]
    },
    {
      "cell_type": "code",
      "execution_count": null,
      "metadata": {
        "colab": {
          "base_uri": "https://localhost:8080/"
        },
        "id": "wFCK4C6CLyG7",
        "outputId": "b1061bf3-8988-4182-db5c-27725fc1116a"
      },
      "outputs": [
        {
          "data": {
            "text/plain": [
              "ObjectApiResponse({'_shards': {'total': 100, 'successful': 50, 'failed': 0}})"
            ]
          },
          "execution_count": 18,
          "metadata": {},
          "output_type": "execute_result"
        }
      ],
      "source": [
        "es.indices.refresh(index=INDEX_NAME)"
      ],
      "id": "wFCK4C6CLyG7"
    },
    {
      "cell_type": "markdown",
      "source": [],
      "metadata": {
        "id": "SoA8iU7VpD70"
      },
      "id": "SoA8iU7VpD70"
    }
  ],
  "metadata": {
    "accelerator": "GPU",
    "colab": {
      "machine_shape": "hm",
      "provenance": [],
      "gpuType": "A100"
    },
    "kernelspec": {
      "display_name": "Python 3",
      "name": "python3"
    },
    "language_info": {
      "codemirror_mode": {
        "name": "ipython",
        "version": 3
      },
      "file_extension": ".py",
      "mimetype": "text/x-python",
      "name": "python",
      "nbconvert_exporter": "python",
      "pygments_lexer": "ipython3",
      "version": "3.10.4"
    }
  },
  "nbformat": 4,
  "nbformat_minor": 5
}