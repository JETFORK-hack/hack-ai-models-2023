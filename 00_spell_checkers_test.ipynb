{
 "cells": [
  {
   "cell_type": "markdown",
   "id": "79q8AyoM0Ptk",
   "metadata": {
    "id": "79q8AyoM0Ptk"
   },
   "source": [
    "# Imports"
   ]
  },
  {
   "cell_type": "code",
   "execution_count": 2,
   "id": "NEWVfmYz0Ptm",
   "metadata": {
    "colab": {
     "base_uri": "https://localhost:8080/"
    },
    "id": "NEWVfmYz0Ptm",
    "outputId": "49104a15-b421-4f1d-f9db-1da840008def"
   },
   "outputs": [
    {
     "name": "stdout",
     "output_type": "stream",
     "text": [
      "Cloning into 'sage'...\n",
      "remote: Enumerating objects: 171, done.\u001b[K\n",
      "remote: Counting objects: 100% (171/171), done.\u001b[K\n",
      "remote: Compressing objects: 100% (118/118), done.\u001b[K\n",
      "remote: Total 171 (delta 63), reused 140 (delta 45), pack-reused 0\u001b[K\n",
      "Receiving objects: 100% (171/171), 13.70 MiB | 20.58 MiB/s, done.\n",
      "Resolving deltas: 100% (63/63), done.\n"
     ]
    }
   ],
   "source": [
    "! git clone https://github.com/ai-forever/sage.git"
   ]
  },
  {
   "cell_type": "code",
   "execution_count": 3,
   "id": "2r8d52Dp0Ptm",
   "metadata": {
    "colab": {
     "base_uri": "https://localhost:8080/"
    },
    "id": "2r8d52Dp0Ptm",
    "outputId": "b7ababf2-6984-4f1e-d6a5-a56a809eb9eb"
   },
   "outputs": [
    {
     "name": "stdout",
     "output_type": "stream",
     "text": [
      "/content/sage\n"
     ]
    }
   ],
   "source": [
    "cd sage"
   ]
  },
  {
   "cell_type": "code",
   "execution_count": 4,
   "id": "_J5WfvIb0Ptn",
   "metadata": {
    "colab": {
     "base_uri": "https://localhost:8080/",
     "height": 1000
    },
    "collapsed": true,
    "id": "_J5WfvIb0Ptn",
    "jupyter": {
     "outputs_hidden": true
    },
    "outputId": "4ee8f517-5525-46dd-a3c4-c4d685d3fcfc",
    "tags": []
   },
   "outputs": [
    {
     "name": "stdout",
     "output_type": "stream",
     "text": [
      "Processing /content/sage\n",
      "  Preparing metadata (setup.py) ... \u001b[?25l\u001b[?25hdone\n",
      "Requirement already satisfied: numpy in /usr/local/lib/python3.10/dist-packages (from sage==1.0.0) (1.23.5)\n",
      "Requirement already satisfied: pandas in /usr/local/lib/python3.10/dist-packages (from sage==1.0.0) (1.5.3)\n",
      "Requirement already satisfied: tqdm in /usr/local/lib/python3.10/dist-packages (from sage==1.0.0) (4.66.1)\n",
      "Requirement already satisfied: pyyaml in /usr/local/lib/python3.10/dist-packages (from sage==1.0.0) (6.0.1)\n",
      "Requirement already satisfied: packaging in /usr/local/lib/python3.10/dist-packages (from sage==1.0.0) (23.2)\n",
      "Requirement already satisfied: requests in /usr/local/lib/python3.10/dist-packages (from sage==1.0.0) (2.31.0)\n",
      "Collecting sentencepiece (from sage==1.0.0)\n",
      "  Downloading sentencepiece-0.1.99-cp310-cp310-manylinux_2_17_x86_64.manylinux2014_x86_64.whl (1.3 MB)\n",
      "\u001b[2K     \u001b[90m━━━━━━━━━━━━━━━━━━━━━━━━━━━━━━━━━━━━━━━━\u001b[0m \u001b[32m1.3/1.3 MB\u001b[0m \u001b[31m8.7 MB/s\u001b[0m eta \u001b[36m0:00:00\u001b[0m\n",
      "\u001b[?25hCollecting datasets (from sage==1.0.0)\n",
      "  Downloading datasets-2.15.0-py3-none-any.whl (521 kB)\n",
      "\u001b[2K     \u001b[90m━━━━━━━━━━━━━━━━━━━━━━━━━━━━━━━━━━━━━━━━\u001b[0m \u001b[32m521.2/521.2 kB\u001b[0m \u001b[31m15.0 MB/s\u001b[0m eta \u001b[36m0:00:00\u001b[0m\n",
      "\u001b[?25hCollecting timeout_decorator (from sage==1.0.0)\n",
      "  Downloading timeout-decorator-0.5.0.tar.gz (4.8 kB)\n",
      "  Preparing metadata (setup.py) ... \u001b[?25l\u001b[?25hdone\n",
      "Collecting safetensors<=0.3.1 (from sage==1.0.0)\n",
      "  Downloading safetensors-0.3.1-cp310-cp310-manylinux_2_17_x86_64.manylinux2014_x86_64.whl (1.3 MB)\n",
      "\u001b[2K     \u001b[90m━━━━━━━━━━━━━━━━━━━━━━━━━━━━━━━━━━━━━━━━\u001b[0m \u001b[32m1.3/1.3 MB\u001b[0m \u001b[31m21.7 MB/s\u001b[0m eta \u001b[36m0:00:00\u001b[0m\n",
      "\u001b[?25hCollecting torch<2.0.0,>=1.0 (from sage==1.0.0)\n",
      "  Downloading torch-1.13.1-cp310-cp310-manylinux1_x86_64.whl (887.5 MB)\n",
      "\u001b[2K     \u001b[90m━━━━━━━━━━━━━━━━━━━━━━━━━━━━━━━━━━━━━━━━\u001b[0m \u001b[32m887.5/887.5 MB\u001b[0m \u001b[31m1.5 MB/s\u001b[0m eta \u001b[36m0:00:00\u001b[0m\n",
      "\u001b[?25hRequirement already satisfied: transformers>=4.20.0 in /usr/local/lib/python3.10/dist-packages (from sage==1.0.0) (4.35.2)\n",
      "Collecting matplotlib<3.7,>=3.2 (from sage==1.0.0)\n",
      "  Downloading matplotlib-3.6.3-cp310-cp310-manylinux_2_17_x86_64.manylinux2014_x86_64.whl (11.8 MB)\n",
      "\u001b[2K     \u001b[90m━━━━━━━━━━━━━━━━━━━━━━━━━━━━━━━━━━━━━━━━\u001b[0m \u001b[32m11.8/11.8 MB\u001b[0m \u001b[31m93.6 MB/s\u001b[0m eta \u001b[36m0:00:00\u001b[0m\n",
      "\u001b[?25hRequirement already satisfied: contourpy>=1.0.1 in /usr/local/lib/python3.10/dist-packages (from matplotlib<3.7,>=3.2->sage==1.0.0) (1.2.0)\n",
      "Requirement already satisfied: cycler>=0.10 in /usr/local/lib/python3.10/dist-packages (from matplotlib<3.7,>=3.2->sage==1.0.0) (0.12.1)\n",
      "Requirement already satisfied: fonttools>=4.22.0 in /usr/local/lib/python3.10/dist-packages (from matplotlib<3.7,>=3.2->sage==1.0.0) (4.44.3)\n",
      "Requirement already satisfied: kiwisolver>=1.0.1 in /usr/local/lib/python3.10/dist-packages (from matplotlib<3.7,>=3.2->sage==1.0.0) (1.4.5)\n",
      "Requirement already satisfied: pillow>=6.2.0 in /usr/local/lib/python3.10/dist-packages (from matplotlib<3.7,>=3.2->sage==1.0.0) (9.4.0)\n",
      "Requirement already satisfied: pyparsing>=2.2.1 in /usr/local/lib/python3.10/dist-packages (from matplotlib<3.7,>=3.2->sage==1.0.0) (3.1.1)\n",
      "Requirement already satisfied: python-dateutil>=2.7 in /usr/local/lib/python3.10/dist-packages (from matplotlib<3.7,>=3.2->sage==1.0.0) (2.8.2)\n",
      "Requirement already satisfied: typing-extensions in /usr/local/lib/python3.10/dist-packages (from torch<2.0.0,>=1.0->sage==1.0.0) (4.5.0)\n",
      "Collecting nvidia-cuda-runtime-cu11==11.7.99 (from torch<2.0.0,>=1.0->sage==1.0.0)\n",
      "  Downloading nvidia_cuda_runtime_cu11-11.7.99-py3-none-manylinux1_x86_64.whl (849 kB)\n",
      "\u001b[2K     \u001b[90m━━━━━━━━━━━━━━━━━━━━━━━━━━━━━━━━━━━━━━━━\u001b[0m \u001b[32m849.3/849.3 kB\u001b[0m \u001b[31m57.6 MB/s\u001b[0m eta \u001b[36m0:00:00\u001b[0m\n",
      "\u001b[?25hCollecting nvidia-cudnn-cu11==8.5.0.96 (from torch<2.0.0,>=1.0->sage==1.0.0)\n",
      "  Downloading nvidia_cudnn_cu11-8.5.0.96-2-py3-none-manylinux1_x86_64.whl (557.1 MB)\n",
      "\u001b[2K     \u001b[90m━━━━━━━━━━━━━━━━━━━━━━━━━━━━━━━━━━━━━━━━\u001b[0m \u001b[32m557.1/557.1 MB\u001b[0m \u001b[31m2.6 MB/s\u001b[0m eta \u001b[36m0:00:00\u001b[0m\n",
      "\u001b[?25hCollecting nvidia-cublas-cu11==11.10.3.66 (from torch<2.0.0,>=1.0->sage==1.0.0)\n",
      "  Downloading nvidia_cublas_cu11-11.10.3.66-py3-none-manylinux1_x86_64.whl (317.1 MB)\n",
      "\u001b[2K     \u001b[90m━━━━━━━━━━━━━━━━━━━━━━━━━━━━━━━━━━━━━━━━\u001b[0m \u001b[32m317.1/317.1 MB\u001b[0m \u001b[31m2.6 MB/s\u001b[0m eta \u001b[36m0:00:00\u001b[0m\n",
      "\u001b[?25hCollecting nvidia-cuda-nvrtc-cu11==11.7.99 (from torch<2.0.0,>=1.0->sage==1.0.0)\n",
      "  Downloading nvidia_cuda_nvrtc_cu11-11.7.99-2-py3-none-manylinux1_x86_64.whl (21.0 MB)\n",
      "\u001b[2K     \u001b[90m━━━━━━━━━━━━━━━━━━━━━━━━━━━━━━━━━━━━━━━━\u001b[0m \u001b[32m21.0/21.0 MB\u001b[0m \u001b[31m58.9 MB/s\u001b[0m eta \u001b[36m0:00:00\u001b[0m\n",
      "\u001b[?25hRequirement already satisfied: setuptools in /usr/local/lib/python3.10/dist-packages (from nvidia-cublas-cu11==11.10.3.66->torch<2.0.0,>=1.0->sage==1.0.0) (67.7.2)\n",
      "Requirement already satisfied: wheel in /usr/local/lib/python3.10/dist-packages (from nvidia-cublas-cu11==11.10.3.66->torch<2.0.0,>=1.0->sage==1.0.0) (0.41.3)\n",
      "Requirement already satisfied: filelock in /usr/local/lib/python3.10/dist-packages (from transformers>=4.20.0->sage==1.0.0) (3.13.1)\n",
      "Requirement already satisfied: huggingface-hub<1.0,>=0.16.4 in /usr/local/lib/python3.10/dist-packages (from transformers>=4.20.0->sage==1.0.0) (0.19.4)\n",
      "Requirement already satisfied: regex!=2019.12.17 in /usr/local/lib/python3.10/dist-packages (from transformers>=4.20.0->sage==1.0.0) (2023.6.3)\n",
      "Requirement already satisfied: tokenizers<0.19,>=0.14 in /usr/local/lib/python3.10/dist-packages (from transformers>=4.20.0->sage==1.0.0) (0.15.0)\n",
      "Requirement already satisfied: pyarrow>=8.0.0 in /usr/local/lib/python3.10/dist-packages (from datasets->sage==1.0.0) (9.0.0)\n",
      "Collecting pyarrow-hotfix (from datasets->sage==1.0.0)\n",
      "  Downloading pyarrow_hotfix-0.6-py3-none-any.whl (7.9 kB)\n",
      "Collecting dill<0.3.8,>=0.3.0 (from datasets->sage==1.0.0)\n",
      "  Downloading dill-0.3.7-py3-none-any.whl (115 kB)\n",
      "\u001b[2K     \u001b[90m━━━━━━━━━━━━━━━━━━━━━━━━━━━━━━━━━━━━━━━━\u001b[0m \u001b[32m115.3/115.3 kB\u001b[0m \u001b[31m14.9 MB/s\u001b[0m eta \u001b[36m0:00:00\u001b[0m\n",
      "\u001b[?25hRequirement already satisfied: xxhash in /usr/local/lib/python3.10/dist-packages (from datasets->sage==1.0.0) (3.4.1)\n",
      "Collecting multiprocess (from datasets->sage==1.0.0)\n",
      "  Downloading multiprocess-0.70.15-py310-none-any.whl (134 kB)\n",
      "\u001b[2K     \u001b[90m━━━━━━━━━━━━━━━━━━━━━━━━━━━━━━━━━━━━━━━━\u001b[0m \u001b[32m134.8/134.8 kB\u001b[0m \u001b[31m18.9 MB/s\u001b[0m eta \u001b[36m0:00:00\u001b[0m\n",
      "\u001b[?25hRequirement already satisfied: fsspec[http]<=2023.10.0,>=2023.1.0 in /usr/local/lib/python3.10/dist-packages (from datasets->sage==1.0.0) (2023.6.0)\n",
      "Requirement already satisfied: aiohttp in /usr/local/lib/python3.10/dist-packages (from datasets->sage==1.0.0) (3.8.6)\n",
      "Requirement already satisfied: charset-normalizer<4,>=2 in /usr/local/lib/python3.10/dist-packages (from requests->sage==1.0.0) (3.3.2)\n",
      "Requirement already satisfied: idna<4,>=2.5 in /usr/local/lib/python3.10/dist-packages (from requests->sage==1.0.0) (3.4)\n",
      "Requirement already satisfied: urllib3<3,>=1.21.1 in /usr/local/lib/python3.10/dist-packages (from requests->sage==1.0.0) (2.0.7)\n",
      "Requirement already satisfied: certifi>=2017.4.17 in /usr/local/lib/python3.10/dist-packages (from requests->sage==1.0.0) (2023.7.22)\n",
      "Requirement already satisfied: pytz>=2020.1 in /usr/local/lib/python3.10/dist-packages (from pandas->sage==1.0.0) (2023.3.post1)\n",
      "Requirement already satisfied: attrs>=17.3.0 in /usr/local/lib/python3.10/dist-packages (from aiohttp->datasets->sage==1.0.0) (23.1.0)\n",
      "Requirement already satisfied: multidict<7.0,>=4.5 in /usr/local/lib/python3.10/dist-packages (from aiohttp->datasets->sage==1.0.0) (6.0.4)\n",
      "Requirement already satisfied: async-timeout<5.0,>=4.0.0a3 in /usr/local/lib/python3.10/dist-packages (from aiohttp->datasets->sage==1.0.0) (4.0.3)\n",
      "Requirement already satisfied: yarl<2.0,>=1.0 in /usr/local/lib/python3.10/dist-packages (from aiohttp->datasets->sage==1.0.0) (1.9.2)\n",
      "Requirement already satisfied: frozenlist>=1.1.1 in /usr/local/lib/python3.10/dist-packages (from aiohttp->datasets->sage==1.0.0) (1.4.0)\n",
      "Requirement already satisfied: aiosignal>=1.1.2 in /usr/local/lib/python3.10/dist-packages (from aiohttp->datasets->sage==1.0.0) (1.3.1)\n",
      "Requirement already satisfied: six>=1.5 in /usr/local/lib/python3.10/dist-packages (from python-dateutil>=2.7->matplotlib<3.7,>=3.2->sage==1.0.0) (1.16.0)\n",
      "Building wheels for collected packages: sage, timeout_decorator\n",
      "  Building wheel for sage (setup.py) ... \u001b[?25l\u001b[?25hdone\n",
      "  Created wheel for sage: filename=sage-1.0.0-py3-none-any.whl size=35267 sha256=dc731d12e03bdb9b4636b3f184777b0d1124ce7eeb36534ba8a321a53dd185cd\n",
      "  Stored in directory: /tmp/pip-ephem-wheel-cache-j6busqi0/wheels/f6/fb/b3/1a788356f44a49d04bc8fdc67921c8b7f36cef909ee0b9615e\n",
      "  Building wheel for timeout_decorator (setup.py) ... \u001b[?25l\u001b[?25hdone\n",
      "  Created wheel for timeout_decorator: filename=timeout_decorator-0.5.0-py3-none-any.whl size=5006 sha256=e1a1f6e25dd5f20a504f08fecae4f975b987c27e22f3c29bad4aa55950fec2ba\n",
      "  Stored in directory: /root/.cache/pip/wheels/68/2f/bc/76f1192d474666d41ae6f09813fccbd00fe3f07e8261c4cff5\n",
      "Successfully built sage timeout_decorator\n",
      "Installing collected packages: timeout_decorator, sentencepiece, safetensors, pyarrow-hotfix, nvidia-cuda-runtime-cu11, nvidia-cuda-nvrtc-cu11, nvidia-cublas-cu11, dill, nvidia-cudnn-cu11, multiprocess, matplotlib, torch, datasets, sage\n",
      "  Attempting uninstall: safetensors\n",
      "    Found existing installation: safetensors 0.4.0\n",
      "    Uninstalling safetensors-0.4.0:\n",
      "      Successfully uninstalled safetensors-0.4.0\n",
      "  Attempting uninstall: matplotlib\n",
      "    Found existing installation: matplotlib 3.7.1\n",
      "    Uninstalling matplotlib-3.7.1:\n",
      "      Successfully uninstalled matplotlib-3.7.1\n",
      "  Attempting uninstall: torch\n",
      "    Found existing installation: torch 2.1.0+cu118\n",
      "    Uninstalling torch-2.1.0+cu118:\n",
      "      Successfully uninstalled torch-2.1.0+cu118\n",
      "\u001b[31mERROR: pip's dependency resolver does not currently take into account all the packages that are installed. This behaviour is the source of the following dependency conflicts.\n",
      "lida 0.0.10 requires fastapi, which is not installed.\n",
      "lida 0.0.10 requires kaleido, which is not installed.\n",
      "lida 0.0.10 requires python-multipart, which is not installed.\n",
      "lida 0.0.10 requires uvicorn, which is not installed.\n",
      "torchaudio 2.1.0+cu118 requires torch==2.1.0, but you have torch 1.13.1 which is incompatible.\n",
      "torchdata 0.7.0 requires torch==2.1.0, but you have torch 1.13.1 which is incompatible.\n",
      "torchtext 0.16.0 requires torch==2.1.0, but you have torch 1.13.1 which is incompatible.\n",
      "torchvision 0.16.0+cu118 requires torch==2.1.0, but you have torch 1.13.1 which is incompatible.\u001b[0m\u001b[31m\n",
      "\u001b[0mSuccessfully installed datasets-2.15.0 dill-0.3.7 matplotlib-3.6.3 multiprocess-0.70.15 nvidia-cublas-cu11-11.10.3.66 nvidia-cuda-nvrtc-cu11-11.7.99 nvidia-cuda-runtime-cu11-11.7.99 nvidia-cudnn-cu11-8.5.0.96 pyarrow-hotfix-0.6 safetensors-0.3.1 sage-1.0.0 sentencepiece-0.1.99 timeout_decorator-0.5.0 torch-1.13.1\n"
     ]
    },
    {
     "data": {
      "application/vnd.colab-display-data+json": {
       "pip_warning": {
        "packages": [
         "matplotlib",
         "mpl_toolkits",
         "torch",
         "torchgen"
        ]
       }
      }
     },
     "metadata": {},
     "output_type": "display_data"
    },
    {
     "name": "stdout",
     "output_type": "stream",
     "text": [
      "Processing ./wheels/augmentex-1.0.3-py3-none-any.whl (from -r requirements.txt (line 1))\n",
      "Requirement already satisfied: numpy>=1.21 in /usr/local/lib/python3.10/dist-packages (from augmentex==1.0.3->-r requirements.txt (line 1)) (1.23.5)\n",
      "Installing collected packages: augmentex\n",
      "Successfully installed augmentex-1.0.3\n"
     ]
    }
   ],
   "source": [
    "! pip install .\n",
    "! pip install -r requirements.txt"
   ]
  },
  {
   "cell_type": "code",
   "execution_count": 13,
   "id": "14Vh3aD10Pto",
   "metadata": {
    "id": "14Vh3aD10Pto"
   },
   "outputs": [],
   "source": [
    "import os\n",
    "import torch\n",
    "from sage.spelling_correction import T5ModelForSpellingCorruption, RuM2M100ModelForSpellingCorrection, AvailableCorrectors"
   ]
  },
  {
   "cell_type": "code",
   "execution_count": 14,
   "id": "FnSqFrY10Ptr",
   "metadata": {
    "id": "FnSqFrY10Ptr"
   },
   "outputs": [],
   "source": [
    "m2m_418m_corrector = RuM2M100ModelForSpellingCorrection.from_pretrained(AvailableCorrectors.m2m100_418M.value)"
   ]
  },
  {
   "cell_type": "code",
   "execution_count": 15,
   "id": "jFItBzbl5DqI",
   "metadata": {
    "colab": {
     "base_uri": "https://localhost:8080/"
    },
    "id": "jFItBzbl5DqI",
    "outputId": "3ba96c0b-8c00-484d-cdd2-a7cb7bd26fa8"
   },
   "outputs": [
    {
     "name": "stderr",
     "output_type": "stream",
     "text": [
      "100%|██████████| 1/1 [00:01<00:00,  1.94s/it]\n"
     ]
    },
    {
     "data": {
      "text/plain": [
       "['Бремена, в 16']"
      ]
     },
     "execution_count": 15,
     "metadata": {},
     "output_type": "execute_result"
    }
   ],
   "source": [
    "m2m_418m_corrector.correct(\"биремена в 16\")"
   ]
  },
  {
   "cell_type": "code",
   "execution_count": null,
   "id": "Y-9E5vm8_3T2",
   "metadata": {
    "id": "Y-9E5vm8_3T2"
   },
   "outputs": [],
   "source": [
    "batch = [\"биремена в 16\",\n",
    "         \"надежда санько\",\n",
    "         \"Выжить в дуба\",\n",
    "         \"бенремена в 16\",\n",
    "         \"Звезды в дубаи\",\n",
    "         \"битва сиьнейших\",\n",
    "         \"stend up\"]"
   ]
  },
  {
   "cell_type": "code",
   "execution_count": 18,
   "id": "_Fuo4bh-60Zy",
   "metadata": {
    "colab": {
     "base_uri": "https://localhost:8080/"
    },
    "id": "_Fuo4bh-60Zy",
    "outputId": "904081cf-6306-4f72-be65-1163239c4c5c"
   },
   "outputs": [
    {
     "name": "stderr",
     "output_type": "stream",
     "text": [
      "100%|██████████| 4/4 [00:12<00:00,  3.09s/it]\n"
     ]
    },
    {
     "data": {
      "text/plain": [
       "[['Бремена, в 16', 'Надежда Санько'],\n",
       " ['Выжить в Дубае.', 'Бенремена, в 16'],\n",
       " ['Звезды в Дубаи', 'Битва сильнейших.'],\n",
       " ['stand up.']]"
      ]
     },
     "execution_count": 18,
     "metadata": {},
     "output_type": "execute_result"
    }
   ],
   "source": [
    "m2m_418m_corrector.batch_correct(batch, batch_size=2)"
   ]
  },
  {
   "cell_type": "markdown",
   "id": "vB-XDrRv_jAc",
   "metadata": {
    "id": "vB-XDrRv_jAc"
   },
   "source": [
    "# deeppavlov test"
   ]
  },
  {
   "cell_type": "code",
   "execution_count": 15,
   "id": "-puRgs959I6j",
   "metadata": {
    "colab": {
     "base_uri": "https://localhost:8080/",
     "height": 1000
    },
    "id": "-puRgs959I6j",
    "outputId": "4760459a-9323-4196-dd97-0a6b1a766558"
   },
   "outputs": [
    {
     "name": "stdout",
     "output_type": "stream",
     "text": [
      "Collecting deeppavlov\n",
      "  Downloading deeppavlov-1.4.0-py3-none-any.whl (489 kB)\n",
      "\u001b[2K     \u001b[90m━━━━━━━━━━━━━━━━━━━━━━━━━━━━━━━━━━━━━━━━\u001b[0m \u001b[32m489.2/489.2 kB\u001b[0m \u001b[31m4.8 MB/s\u001b[0m eta \u001b[36m0:00:00\u001b[0m\n",
      "\u001b[?25hCollecting fastapi<=0.89.1,>=0.47.0 (from deeppavlov)\n",
      "  Downloading fastapi-0.89.1-py3-none-any.whl (55 kB)\n",
      "\u001b[2K     \u001b[90m━━━━━━━━━━━━━━━━━━━━━━━━━━━━━━━━━━━━━━━━\u001b[0m \u001b[32m55.8/55.8 kB\u001b[0m \u001b[31m5.3 MB/s\u001b[0m eta \u001b[36m0:00:00\u001b[0m\n",
      "\u001b[?25hCollecting filelock<3.10.0,>=3.0.0 (from deeppavlov)\n",
      "  Downloading filelock-3.9.1-py3-none-any.whl (9.7 kB)\n",
      "Requirement already satisfied: nltk<3.10.0,>=3.2.4 in /usr/local/lib/python3.10/dist-packages (from deeppavlov) (3.8.1)\n",
      "Requirement already satisfied: numpy<1.24 in /usr/local/lib/python3.10/dist-packages (from deeppavlov) (1.23.5)\n",
      "Requirement already satisfied: pandas<1.6.0,>=1.0.0 in /usr/local/lib/python3.10/dist-packages (from deeppavlov) (1.5.3)\n",
      "Requirement already satisfied: prometheus-client<=1.16.0,>=0.13.0 in /usr/local/lib/python3.10/dist-packages (from deeppavlov) (0.18.0)\n",
      "Requirement already satisfied: pydantic<2 in /usr/local/lib/python3.10/dist-packages (from deeppavlov) (1.10.13)\n",
      "Collecting pybind11==2.10.3 (from deeppavlov)\n",
      "  Downloading pybind11-2.10.3-py3-none-any.whl (222 kB)\n",
      "\u001b[2K     \u001b[90m━━━━━━━━━━━━━━━━━━━━━━━━━━━━━━━━━━━━━━━━\u001b[0m \u001b[32m222.4/222.4 kB\u001b[0m \u001b[31m8.8 MB/s\u001b[0m eta \u001b[36m0:00:00\u001b[0m\n",
      "\u001b[?25hRequirement already satisfied: requests<3.0.0,>=2.19.0 in /usr/local/lib/python3.10/dist-packages (from deeppavlov) (2.31.0)\n",
      "Collecting scikit-learn<1.1.0,>=0.24 (from deeppavlov)\n",
      "  Downloading scikit_learn-1.0.2-cp310-cp310-manylinux_2_17_x86_64.manylinux2014_x86_64.whl (26.5 MB)\n",
      "\u001b[2K     \u001b[90m━━━━━━━━━━━━━━━━━━━━━━━━━━━━━━━━━━━━━━━━\u001b[0m \u001b[32m26.5/26.5 MB\u001b[0m \u001b[31m8.8 MB/s\u001b[0m eta \u001b[36m0:00:00\u001b[0m\n",
      "\u001b[?25hCollecting tqdm<4.65.0,>=4.42.0 (from deeppavlov)\n",
      "  Downloading tqdm-4.64.1-py2.py3-none-any.whl (78 kB)\n",
      "\u001b[2K     \u001b[90m━━━━━━━━━━━━━━━━━━━━━━━━━━━━━━━━━━━━━━━━\u001b[0m \u001b[32m78.5/78.5 kB\u001b[0m \u001b[31m8.8 MB/s\u001b[0m eta \u001b[36m0:00:00\u001b[0m\n",
      "\u001b[?25hCollecting uvicorn<0.19.0,>=0.13.0 (from deeppavlov)\n",
      "  Downloading uvicorn-0.18.3-py3-none-any.whl (57 kB)\n",
      "\u001b[2K     \u001b[90m━━━━━━━━━━━━━━━━━━━━━━━━━━━━━━━━━━━━━━━━\u001b[0m \u001b[32m57.4/57.4 kB\u001b[0m \u001b[31m4.7 MB/s\u001b[0m eta \u001b[36m0:00:00\u001b[0m\n",
      "\u001b[?25hRequirement already satisfied: wheel in /usr/local/lib/python3.10/dist-packages (from deeppavlov) (0.41.3)\n",
      "Collecting scipy==1.10.0 (from deeppavlov)\n",
      "  Downloading scipy-1.10.0-cp310-cp310-manylinux_2_17_x86_64.manylinux2014_x86_64.whl (34.4 MB)\n",
      "\u001b[2K     \u001b[90m━━━━━━━━━━━━━━━━━━━━━━━━━━━━━━━━━━━━━━━━\u001b[0m \u001b[32m34.4/34.4 MB\u001b[0m \u001b[31m8.2 MB/s\u001b[0m eta \u001b[36m0:00:00\u001b[0m\n",
      "\u001b[?25hCollecting starlette==0.22.0 (from fastapi<=0.89.1,>=0.47.0->deeppavlov)\n",
      "  Downloading starlette-0.22.0-py3-none-any.whl (64 kB)\n",
      "\u001b[2K     \u001b[90m━━━━━━━━━━━━━━━━━━━━━━━━━━━━━━━━━━━━━━━━\u001b[0m \u001b[32m64.3/64.3 kB\u001b[0m \u001b[31m7.5 MB/s\u001b[0m eta \u001b[36m0:00:00\u001b[0m\n",
      "\u001b[?25hRequirement already satisfied: anyio<5,>=3.4.0 in /usr/local/lib/python3.10/dist-packages (from starlette==0.22.0->fastapi<=0.89.1,>=0.47.0->deeppavlov) (3.7.1)\n",
      "Requirement already satisfied: click in /usr/local/lib/python3.10/dist-packages (from nltk<3.10.0,>=3.2.4->deeppavlov) (8.1.7)\n",
      "Requirement already satisfied: joblib in /usr/local/lib/python3.10/dist-packages (from nltk<3.10.0,>=3.2.4->deeppavlov) (1.3.2)\n",
      "Requirement already satisfied: regex>=2021.8.3 in /usr/local/lib/python3.10/dist-packages (from nltk<3.10.0,>=3.2.4->deeppavlov) (2023.6.3)\n",
      "Requirement already satisfied: python-dateutil>=2.8.1 in /usr/local/lib/python3.10/dist-packages (from pandas<1.6.0,>=1.0.0->deeppavlov) (2.8.2)\n",
      "Requirement already satisfied: pytz>=2020.1 in /usr/local/lib/python3.10/dist-packages (from pandas<1.6.0,>=1.0.0->deeppavlov) (2023.3.post1)\n",
      "Requirement already satisfied: typing-extensions>=4.2.0 in /usr/local/lib/python3.10/dist-packages (from pydantic<2->deeppavlov) (4.5.0)\n",
      "Requirement already satisfied: charset-normalizer<4,>=2 in /usr/local/lib/python3.10/dist-packages (from requests<3.0.0,>=2.19.0->deeppavlov) (3.3.2)\n",
      "Requirement already satisfied: idna<4,>=2.5 in /usr/local/lib/python3.10/dist-packages (from requests<3.0.0,>=2.19.0->deeppavlov) (3.4)\n",
      "Requirement already satisfied: urllib3<3,>=1.21.1 in /usr/local/lib/python3.10/dist-packages (from requests<3.0.0,>=2.19.0->deeppavlov) (2.0.7)\n",
      "Requirement already satisfied: certifi>=2017.4.17 in /usr/local/lib/python3.10/dist-packages (from requests<3.0.0,>=2.19.0->deeppavlov) (2023.7.22)\n",
      "Requirement already satisfied: threadpoolctl>=2.0.0 in /usr/local/lib/python3.10/dist-packages (from scikit-learn<1.1.0,>=0.24->deeppavlov) (3.2.0)\n",
      "Collecting h11>=0.8 (from uvicorn<0.19.0,>=0.13.0->deeppavlov)\n",
      "  Downloading h11-0.14.0-py3-none-any.whl (58 kB)\n",
      "\u001b[2K     \u001b[90m━━━━━━━━━━━━━━━━━━━━━━━━━━━━━━━━━━━━━━━━\u001b[0m \u001b[32m58.3/58.3 kB\u001b[0m \u001b[31m5.9 MB/s\u001b[0m eta \u001b[36m0:00:00\u001b[0m\n",
      "\u001b[?25hRequirement already satisfied: six>=1.5 in /usr/local/lib/python3.10/dist-packages (from python-dateutil>=2.8.1->pandas<1.6.0,>=1.0.0->deeppavlov) (1.16.0)\n",
      "Requirement already satisfied: sniffio>=1.1 in /usr/local/lib/python3.10/dist-packages (from anyio<5,>=3.4.0->starlette==0.22.0->fastapi<=0.89.1,>=0.47.0->deeppavlov) (1.3.0)\n",
      "Requirement already satisfied: exceptiongroup in /usr/local/lib/python3.10/dist-packages (from anyio<5,>=3.4.0->starlette==0.22.0->fastapi<=0.89.1,>=0.47.0->deeppavlov) (1.1.3)\n",
      "Installing collected packages: tqdm, scipy, pybind11, h11, filelock, uvicorn, starlette, scikit-learn, fastapi, deeppavlov\n",
      "  Attempting uninstall: tqdm\n",
      "    Found existing installation: tqdm 4.66.1\n",
      "    Uninstalling tqdm-4.66.1:\n",
      "      Successfully uninstalled tqdm-4.66.1\n",
      "  Attempting uninstall: scipy\n",
      "    Found existing installation: scipy 1.11.3\n",
      "    Uninstalling scipy-1.11.3:\n",
      "      Successfully uninstalled scipy-1.11.3\n",
      "  Attempting uninstall: filelock\n",
      "    Found existing installation: filelock 3.13.1\n",
      "    Uninstalling filelock-3.13.1:\n",
      "      Successfully uninstalled filelock-3.13.1\n",
      "  Attempting uninstall: scikit-learn\n",
      "    Found existing installation: scikit-learn 1.2.2\n",
      "    Uninstalling scikit-learn-1.2.2:\n",
      "      Successfully uninstalled scikit-learn-1.2.2\n",
      "\u001b[31mERROR: pip's dependency resolver does not currently take into account all the packages that are installed. This behaviour is the source of the following dependency conflicts.\n",
      "lida 0.0.10 requires kaleido, which is not installed.\n",
      "lida 0.0.10 requires python-multipart, which is not installed.\n",
      "bigframes 0.13.0 requires scikit-learn>=1.2.2, but you have scikit-learn 1.0.2 which is incompatible.\n",
      "torchtext 0.16.0 requires torch==2.1.0, but you have torch 1.13.1 which is incompatible.\u001b[0m\u001b[31m\n",
      "\u001b[0mSuccessfully installed deeppavlov-1.4.0 fastapi-0.89.1 filelock-3.9.1 h11-0.14.0 pybind11-2.10.3 scikit-learn-1.0.2 scipy-1.10.0 starlette-0.22.0 tqdm-4.64.1 uvicorn-0.18.3\n"
     ]
    },
    {
     "data": {
      "application/vnd.colab-display-data+json": {
       "pip_warning": {
        "packages": [
         "tqdm"
        ]
       }
      }
     },
     "metadata": {},
     "output_type": "display_data"
    }
   ],
   "source": [
    "! pip install deeppavlov"
   ]
  },
  {
   "cell_type": "code",
   "execution_count": 2,
   "id": "VgG3LlWYA3Cw",
   "metadata": {
    "colab": {
     "base_uri": "https://localhost:8080/"
    },
    "id": "VgG3LlWYA3Cw",
    "outputId": "76824e86-c24e-4bac-b56a-0ae54fc89ad2"
   },
   "outputs": [
    {
     "name": "stdout",
     "output_type": "stream",
     "text": [
      "Requirement already satisfied: sacremoses in /usr/local/lib/python3.10/dist-packages (0.1.1)\n",
      "Collecting kenlm\n",
      "  Using cached kenlm-0.2.0.tar.gz (427 kB)\n",
      "  Installing build dependencies ... \u001b[?25l\u001b[?25hdone\n",
      "  Getting requirements to build wheel ... \u001b[?25l\u001b[?25hdone\n",
      "  Preparing metadata (pyproject.toml) ... \u001b[?25l\u001b[?25hdone\n",
      "Requirement already satisfied: regex in /usr/local/lib/python3.10/dist-packages (from sacremoses) (2023.6.3)\n",
      "Requirement already satisfied: click in /usr/local/lib/python3.10/dist-packages (from sacremoses) (8.1.7)\n",
      "Requirement already satisfied: joblib in /usr/local/lib/python3.10/dist-packages (from sacremoses) (1.3.2)\n",
      "Requirement already satisfied: tqdm in /usr/local/lib/python3.10/dist-packages (from sacremoses) (4.64.1)\n",
      "Building wheels for collected packages: kenlm\n",
      "  Building wheel for kenlm (pyproject.toml) ... \u001b[?25l\u001b[?25hdone\n",
      "  Created wheel for kenlm: filename=kenlm-0.2.0-cp310-cp310-linux_x86_64.whl size=3184463 sha256=35ec8ec4f5d7df11c93c17d2674c021dd7b0bf0292dbd12ec7a15d3ccd0a3f9d\n",
      "  Stored in directory: /root/.cache/pip/wheels/fd/80/e0/18f4148e863fb137bd87e21ee2bf423b81b3ed6989dab95135\n",
      "Successfully built kenlm\n",
      "Installing collected packages: kenlm\n",
      "Successfully installed kenlm-0.2.0\n"
     ]
    }
   ],
   "source": [
    "! pip install sacremoses kenlm"
   ]
  },
  {
   "cell_type": "code",
   "execution_count": 3,
   "id": "0ozd81GP_nOW",
   "metadata": {
    "colab": {
     "base_uri": "https://localhost:8080/"
    },
    "id": "0ozd81GP_nOW",
    "outputId": "96a6f225-2d2e-4d55-e5d9-a399015b8469"
   },
   "outputs": [
    {
     "name": "stderr",
     "output_type": "stream",
     "text": [
      "2023-11-24 01:56:02.695 INFO in 'deeppavlov.download'['download'] at line 138: Skipped http://files.deeppavlov.ai/lang_models/ru_wiyalen_no_punkt.arpa.binary.gz download because of matching hashes\n",
      "INFO:deeppavlov.download:Skipped http://files.deeppavlov.ai/lang_models/ru_wiyalen_no_punkt.arpa.binary.gz download because of matching hashes\n",
      "2023-11-24 01:56:04.212 INFO in 'deeppavlov.download'['download'] at line 138: Skipped http://files.deeppavlov.ai/deeppavlov_data/vocabs/russian_words_vocab.dict.gz download because of matching hashes\n",
      "INFO:deeppavlov.download:Skipped http://files.deeppavlov.ai/deeppavlov_data/vocabs/russian_words_vocab.dict.gz download because of matching hashes\n"
     ]
    }
   ],
   "source": [
    "import sys\n",
    "\n",
    "from deeppavlov import build_model, configs\n",
    "\n",
    "CONFIG_PATH = configs.spelling_correction.levenshtein_corrector_ru\n",
    "\n",
    "model = build_model(CONFIG_PATH, download=True)"
   ]
  },
  {
   "cell_type": "code",
   "execution_count": 12,
   "id": "t-rPcGhw_yYh",
   "metadata": {
    "colab": {
     "base_uri": "https://localhost:8080/"
    },
    "id": "t-rPcGhw_yYh",
    "outputId": "9bcdae61-24bc-4b3f-ccc4-a0964357b184"
   },
   "outputs": [
    {
     "name": "stdout",
     "output_type": "stream",
     "text": [
      "биремена в 16 corrected бремена в 16\n",
      "надежда санько corrected надежда саньку\n",
      "Выжить в дуба corrected выжить в дуба\n",
      "бенремена в 16 corrected бенремена в 16\n",
      "Звезды в дубаи corrected звезды в дуба\n",
      "битва сиьнейших corrected битва сильнейших\n",
      "stend up corrected stend up\n",
      "CPU times: user 101 ms, sys: 5.1 ms, total: 106 ms\n",
      "Wall time: 254 ms\n"
     ]
    }
   ],
   "source": [
    "%%time\n",
    "for line in batch:\n",
    "    print(line, 'corrected', model([line])[0], flush=True)"
   ]
  },
  {
   "cell_type": "markdown",
   "id": "911e920e-e585-420b-9c88-27ffb3cf6ba8",
   "metadata": {},
   "source": [
    "## symspell + custom dicts"
   ]
  },
  {
   "cell_type": "code",
   "execution_count": 1,
   "id": "9a684938-843b-4728-a62c-1361ecbe6312",
   "metadata": {
    "execution": {
     "iopub.execute_input": "2023-11-24T02:40:52.409479Z",
     "iopub.status.busy": "2023-11-24T02:40:52.408695Z",
     "iopub.status.idle": "2023-11-24T02:40:52.435205Z",
     "shell.execute_reply": "2023-11-24T02:40:52.434286Z",
     "shell.execute_reply.started": "2023-11-24T02:40:52.409432Z"
    }
   },
   "outputs": [],
   "source": [
    "batch = [\"биремена в 16\",\n",
    "         \"надежда санько\",\n",
    "         \"Выжить в дуба\",\n",
    "         \"бенремена в 16\",\n",
    "         \"Звезды в дубаи\",\n",
    "         \"битва сиьнейших\",\n",
    "         \"stend up\"]"
   ]
  },
  {
   "cell_type": "code",
   "execution_count": 3,
   "id": "32a9f92f-b568-4593-8778-50a8ee20cf9c",
   "metadata": {
    "execution": {
     "iopub.execute_input": "2023-11-24T02:45:00.250234Z",
     "iopub.status.busy": "2023-11-24T02:45:00.249307Z",
     "iopub.status.idle": "2023-11-24T02:50:26.230362Z",
     "shell.execute_reply": "2023-11-24T02:50:26.229078Z",
     "shell.execute_reply.started": "2023-11-24T02:45:00.250173Z"
    },
    "tags": []
   },
   "outputs": [
    {
     "name": "stderr",
     "output_type": "stream",
     "text": [
      "IOStream.flush timed out\n"
     ]
    }
   ],
   "source": [
    "from spelling_checker.sym_spell_servicer import SymSpellRouterServicer\n",
    "\n",
    "spell_checker = SymSpellRouterServicer()"
   ]
  },
  {
   "cell_type": "code",
   "execution_count": 4,
   "id": "b8d87447-29f3-4572-89bf-05a4fa41d717",
   "metadata": {
    "execution": {
     "iopub.execute_input": "2023-11-24T02:50:26.233085Z",
     "iopub.status.busy": "2023-11-24T02:50:26.231874Z",
     "iopub.status.idle": "2023-11-24T02:50:26.359717Z",
     "shell.execute_reply": "2023-11-24T02:50:26.358417Z",
     "shell.execute_reply.started": "2023-11-24T02:50:26.233035Z"
    },
    "tags": []
   },
   "outputs": [
    {
     "name": "stdout",
     "output_type": "stream",
     "text": [
      "биремена в 16 \t corrected: биремена в 16\n",
      "надежда санько \t corrected: надежда санько\n",
      "Выжить в дуба \t corrected: выжить в дуба\n",
      "бенремена в 16 \t corrected: бенремена в 16\n",
      "Звезды в дубаи \t corrected: звезды в дубаи\n",
      "битва сиьнейших \t corrected: битва сиьнейших\n",
      "stend up \t corrected: stend up\n",
      "CPU times: user 105 ms, sys: 4.06 ms, total: 110 ms\n",
      "Wall time: 102 ms\n"
     ]
    }
   ],
   "source": [
    "%%time\n",
    "for line in batch:\n",
    "    print(line, '\\t corrected:', spell_checker.predict_single_correction(\n",
    "    line,\n",
    "    use_preprocessing=True,\n",
    "    use_keyboard_inverter=True,\n",
    "    use_correction=True\n",
    ")[1], flush=True)"
   ]
  }
 ],
 "metadata": {
  "colab": {
   "provenance": []
  },
  "kernelspec": {
   "display_name": "DataSphere Kernel",
   "language": "python",
   "name": "python3"
  },
  "language_info": {
   "codemirror_mode": {
    "name": "ipython",
    "version": 3
   },
   "file_extension": ".py",
   "mimetype": "text/x-python",
   "name": "python",
   "nbconvert_exporter": "python",
   "pygments_lexer": "ipython3",
   "version": "3.7.7"
  }
 },
 "nbformat": 4,
 "nbformat_minor": 5
}
